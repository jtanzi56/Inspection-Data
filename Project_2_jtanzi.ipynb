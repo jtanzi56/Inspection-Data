{
  "nbformat": 4,
  "nbformat_minor": 0,
  "metadata": {
    "colab": {
      "provenance": [],
      "toc_visible": true,
      "mount_file_id": "1cW6-8jpn_OheeWpUxOKwYqg9NHkJrtcY",
      "authorship_tag": "ABX9TyPs/wBA4wevW2x8y5dOtqxj",
      "include_colab_link": true
    },
    "kernelspec": {
      "name": "python3",
      "display_name": "Python 3"
    },
    "language_info": {
      "name": "python"
    }
  },
  "cells": [
    {
      "cell_type": "markdown",
      "metadata": {
        "id": "view-in-github",
        "colab_type": "text"
      },
      "source": [
        "<a href=\"https://colab.research.google.com/github/jtanzi56/Inspection-Data/blob/main/Project_2_jtanzi.ipynb\" target=\"_parent\"><img src=\"https://colab.research.google.com/assets/colab-badge.svg\" alt=\"Open In Colab\"/></a>"
      ]
    },
    {
      "cell_type": "markdown",
      "source": [
        "# Project 2\n",
        "Jacob Tanzi"
      ],
      "metadata": {
        "id": "jz3WradmxZEn"
      }
    },
    {
      "cell_type": "markdown",
      "source": [
        "# Assignment:\n",
        "###Choose and describe 2 potential datasets for your second project."
      ],
      "metadata": {
        "id": "PvBsBUtNxTan"
      }
    },
    {
      "cell_type": "code",
      "source": [
        "import pandas as pd\n"
      ],
      "metadata": {
        "id": "gEe_d2yby9r2"
      },
      "execution_count": 2,
      "outputs": []
    },
    {
      "cell_type": "code",
      "execution_count": 3,
      "metadata": {
        "colab": {
          "base_uri": "https://localhost:8080/",
          "height": 698
        },
        "id": "gArP34cfxMFT",
        "outputId": "939b0c6f-1db3-47a5-a6d3-d3ddbc02a703"
      },
      "outputs": [
        {
          "output_type": "stream",
          "name": "stderr",
          "text": [
            "<ipython-input-3-779b8c861591>:1: DtypeWarning: Columns (6) have mixed types. Specify dtype option on import or set low_memory=False.\n",
            "  df = pd.read_csv(\"/content/drive/MyDrive/CodingDojo/02-MachineLearning/Week07/Data/Food_Establishment_Inspection_Data.csv\")\n"
          ]
        },
        {
          "output_type": "execute_result",
          "data": {
            "text/plain": [
              "               Name Program Identifier Inspection Date  \\\n",
              "0  #807 TUTTA BELLA   #807 TUTTA BELLA      03/02/2023   \n",
              "1  #807 TUTTA BELLA   #807 TUTTA BELLA      03/02/2023   \n",
              "2  #807 TUTTA BELLA   #807 TUTTA BELLA      08/31/2022   \n",
              "3  #807 TUTTA BELLA   #807 TUTTA BELLA      08/31/2022   \n",
              "4  #807 TUTTA BELLA   #807 TUTTA BELLA      01/13/2022   \n",
              "\n",
              "                        Description          Address     City Zip Code  \\\n",
              "0  Seating 0-12 - Risk Category III  2746 NE 45TH ST  SEATTLE    98105   \n",
              "1  Seating 0-12 - Risk Category III  2746 NE 45TH ST  SEATTLE    98105   \n",
              "2  Seating 0-12 - Risk Category III  2746 NE 45TH ST  SEATTLE    98105   \n",
              "3  Seating 0-12 - Risk Category III  2746 NE 45TH ST  SEATTLE    98105   \n",
              "4  Seating 0-12 - Risk Category III  2746 NE 45TH ST  SEATTLE    98105   \n",
              "\n",
              "            Phone   Longitude   Latitude  ... Inspection Score  \\\n",
              "0  (206) 722-6400 -122.296415  47.662311  ...             20.0   \n",
              "1  (206) 722-6400 -122.296415  47.662311  ...             20.0   \n",
              "2  (206) 722-6400 -122.296415  47.662311  ...             10.0   \n",
              "3  (206) 722-6400 -122.296415  47.662311  ...             10.0   \n",
              "4  (206) 722-6400 -122.296415  47.662311  ...              0.0   \n",
              "\n",
              "  Inspection Result  Inspection Closed Business Violation Type  \\\n",
              "0    Unsatisfactory                       False            RED   \n",
              "1    Unsatisfactory                       False            RED   \n",
              "2    Unsatisfactory                       False           BLUE   \n",
              "3    Unsatisfactory                       False            RED   \n",
              "4      Satisfactory                       False            NaN   \n",
              "\n",
              "                               Violation Description Violation Points  \\\n",
              "0  1300 - Food contact surfaces cleaned and sanit...               15   \n",
              "1  2120 - Proper cold holding temperatures ( 42 d...                5   \n",
              "2  3200 - Insects, rodents, animals not present; ...                5   \n",
              "3  0200 - Food Worker Cards current for all food ...                5   \n",
              "4                                                NaN                0   \n",
              "\n",
              "  Business_ID  Inspection_Serial_Num Violation_Record_ID Grade  \n",
              "0   PR0089260              DAJ5DTHLV           IVBTPZO0B   1.0  \n",
              "1   PR0089260              DAJ5DTHLV           IV5GOME67   1.0  \n",
              "2   PR0089260              DAEEWQC0L           IVQ7QYW2V   1.0  \n",
              "3   PR0089260              DAEEWQC0L           IV0J437H6   1.0  \n",
              "4   PR0089260              DAWWGK08K                 NaN   1.0  \n",
              "\n",
              "[5 rows x 22 columns]"
            ],
            "text/html": [
              "\n",
              "  <div id=\"df-c74f0fbc-7ced-430a-bd04-7a089e9d4e65\">\n",
              "    <div class=\"colab-df-container\">\n",
              "      <div>\n",
              "<style scoped>\n",
              "    .dataframe tbody tr th:only-of-type {\n",
              "        vertical-align: middle;\n",
              "    }\n",
              "\n",
              "    .dataframe tbody tr th {\n",
              "        vertical-align: top;\n",
              "    }\n",
              "\n",
              "    .dataframe thead th {\n",
              "        text-align: right;\n",
              "    }\n",
              "</style>\n",
              "<table border=\"1\" class=\"dataframe\">\n",
              "  <thead>\n",
              "    <tr style=\"text-align: right;\">\n",
              "      <th></th>\n",
              "      <th>Name</th>\n",
              "      <th>Program Identifier</th>\n",
              "      <th>Inspection Date</th>\n",
              "      <th>Description</th>\n",
              "      <th>Address</th>\n",
              "      <th>City</th>\n",
              "      <th>Zip Code</th>\n",
              "      <th>Phone</th>\n",
              "      <th>Longitude</th>\n",
              "      <th>Latitude</th>\n",
              "      <th>...</th>\n",
              "      <th>Inspection Score</th>\n",
              "      <th>Inspection Result</th>\n",
              "      <th>Inspection Closed Business</th>\n",
              "      <th>Violation Type</th>\n",
              "      <th>Violation Description</th>\n",
              "      <th>Violation Points</th>\n",
              "      <th>Business_ID</th>\n",
              "      <th>Inspection_Serial_Num</th>\n",
              "      <th>Violation_Record_ID</th>\n",
              "      <th>Grade</th>\n",
              "    </tr>\n",
              "  </thead>\n",
              "  <tbody>\n",
              "    <tr>\n",
              "      <th>0</th>\n",
              "      <td>#807 TUTTA BELLA</td>\n",
              "      <td>#807 TUTTA BELLA</td>\n",
              "      <td>03/02/2023</td>\n",
              "      <td>Seating 0-12 - Risk Category III</td>\n",
              "      <td>2746 NE 45TH ST</td>\n",
              "      <td>SEATTLE</td>\n",
              "      <td>98105</td>\n",
              "      <td>(206) 722-6400</td>\n",
              "      <td>-122.296415</td>\n",
              "      <td>47.662311</td>\n",
              "      <td>...</td>\n",
              "      <td>20.0</td>\n",
              "      <td>Unsatisfactory</td>\n",
              "      <td>False</td>\n",
              "      <td>RED</td>\n",
              "      <td>1300 - Food contact surfaces cleaned and sanit...</td>\n",
              "      <td>15</td>\n",
              "      <td>PR0089260</td>\n",
              "      <td>DAJ5DTHLV</td>\n",
              "      <td>IVBTPZO0B</td>\n",
              "      <td>1.0</td>\n",
              "    </tr>\n",
              "    <tr>\n",
              "      <th>1</th>\n",
              "      <td>#807 TUTTA BELLA</td>\n",
              "      <td>#807 TUTTA BELLA</td>\n",
              "      <td>03/02/2023</td>\n",
              "      <td>Seating 0-12 - Risk Category III</td>\n",
              "      <td>2746 NE 45TH ST</td>\n",
              "      <td>SEATTLE</td>\n",
              "      <td>98105</td>\n",
              "      <td>(206) 722-6400</td>\n",
              "      <td>-122.296415</td>\n",
              "      <td>47.662311</td>\n",
              "      <td>...</td>\n",
              "      <td>20.0</td>\n",
              "      <td>Unsatisfactory</td>\n",
              "      <td>False</td>\n",
              "      <td>RED</td>\n",
              "      <td>2120 - Proper cold holding temperatures ( 42 d...</td>\n",
              "      <td>5</td>\n",
              "      <td>PR0089260</td>\n",
              "      <td>DAJ5DTHLV</td>\n",
              "      <td>IV5GOME67</td>\n",
              "      <td>1.0</td>\n",
              "    </tr>\n",
              "    <tr>\n",
              "      <th>2</th>\n",
              "      <td>#807 TUTTA BELLA</td>\n",
              "      <td>#807 TUTTA BELLA</td>\n",
              "      <td>08/31/2022</td>\n",
              "      <td>Seating 0-12 - Risk Category III</td>\n",
              "      <td>2746 NE 45TH ST</td>\n",
              "      <td>SEATTLE</td>\n",
              "      <td>98105</td>\n",
              "      <td>(206) 722-6400</td>\n",
              "      <td>-122.296415</td>\n",
              "      <td>47.662311</td>\n",
              "      <td>...</td>\n",
              "      <td>10.0</td>\n",
              "      <td>Unsatisfactory</td>\n",
              "      <td>False</td>\n",
              "      <td>BLUE</td>\n",
              "      <td>3200 - Insects, rodents, animals not present; ...</td>\n",
              "      <td>5</td>\n",
              "      <td>PR0089260</td>\n",
              "      <td>DAEEWQC0L</td>\n",
              "      <td>IVQ7QYW2V</td>\n",
              "      <td>1.0</td>\n",
              "    </tr>\n",
              "    <tr>\n",
              "      <th>3</th>\n",
              "      <td>#807 TUTTA BELLA</td>\n",
              "      <td>#807 TUTTA BELLA</td>\n",
              "      <td>08/31/2022</td>\n",
              "      <td>Seating 0-12 - Risk Category III</td>\n",
              "      <td>2746 NE 45TH ST</td>\n",
              "      <td>SEATTLE</td>\n",
              "      <td>98105</td>\n",
              "      <td>(206) 722-6400</td>\n",
              "      <td>-122.296415</td>\n",
              "      <td>47.662311</td>\n",
              "      <td>...</td>\n",
              "      <td>10.0</td>\n",
              "      <td>Unsatisfactory</td>\n",
              "      <td>False</td>\n",
              "      <td>RED</td>\n",
              "      <td>0200 - Food Worker Cards current for all food ...</td>\n",
              "      <td>5</td>\n",
              "      <td>PR0089260</td>\n",
              "      <td>DAEEWQC0L</td>\n",
              "      <td>IV0J437H6</td>\n",
              "      <td>1.0</td>\n",
              "    </tr>\n",
              "    <tr>\n",
              "      <th>4</th>\n",
              "      <td>#807 TUTTA BELLA</td>\n",
              "      <td>#807 TUTTA BELLA</td>\n",
              "      <td>01/13/2022</td>\n",
              "      <td>Seating 0-12 - Risk Category III</td>\n",
              "      <td>2746 NE 45TH ST</td>\n",
              "      <td>SEATTLE</td>\n",
              "      <td>98105</td>\n",
              "      <td>(206) 722-6400</td>\n",
              "      <td>-122.296415</td>\n",
              "      <td>47.662311</td>\n",
              "      <td>...</td>\n",
              "      <td>0.0</td>\n",
              "      <td>Satisfactory</td>\n",
              "      <td>False</td>\n",
              "      <td>NaN</td>\n",
              "      <td>NaN</td>\n",
              "      <td>0</td>\n",
              "      <td>PR0089260</td>\n",
              "      <td>DAWWGK08K</td>\n",
              "      <td>NaN</td>\n",
              "      <td>1.0</td>\n",
              "    </tr>\n",
              "  </tbody>\n",
              "</table>\n",
              "<p>5 rows × 22 columns</p>\n",
              "</div>\n",
              "      <button class=\"colab-df-convert\" onclick=\"convertToInteractive('df-c74f0fbc-7ced-430a-bd04-7a089e9d4e65')\"\n",
              "              title=\"Convert this dataframe to an interactive table.\"\n",
              "              style=\"display:none;\">\n",
              "        \n",
              "  <svg xmlns=\"http://www.w3.org/2000/svg\" height=\"24px\"viewBox=\"0 0 24 24\"\n",
              "       width=\"24px\">\n",
              "    <path d=\"M0 0h24v24H0V0z\" fill=\"none\"/>\n",
              "    <path d=\"M18.56 5.44l.94 2.06.94-2.06 2.06-.94-2.06-.94-.94-2.06-.94 2.06-2.06.94zm-11 1L8.5 8.5l.94-2.06 2.06-.94-2.06-.94L8.5 2.5l-.94 2.06-2.06.94zm10 10l.94 2.06.94-2.06 2.06-.94-2.06-.94-.94-2.06-.94 2.06-2.06.94z\"/><path d=\"M17.41 7.96l-1.37-1.37c-.4-.4-.92-.59-1.43-.59-.52 0-1.04.2-1.43.59L10.3 9.45l-7.72 7.72c-.78.78-.78 2.05 0 2.83L4 21.41c.39.39.9.59 1.41.59.51 0 1.02-.2 1.41-.59l7.78-7.78 2.81-2.81c.8-.78.8-2.07 0-2.86zM5.41 20L4 18.59l7.72-7.72 1.47 1.35L5.41 20z\"/>\n",
              "  </svg>\n",
              "      </button>\n",
              "      \n",
              "  <style>\n",
              "    .colab-df-container {\n",
              "      display:flex;\n",
              "      flex-wrap:wrap;\n",
              "      gap: 12px;\n",
              "    }\n",
              "\n",
              "    .colab-df-convert {\n",
              "      background-color: #E8F0FE;\n",
              "      border: none;\n",
              "      border-radius: 50%;\n",
              "      cursor: pointer;\n",
              "      display: none;\n",
              "      fill: #1967D2;\n",
              "      height: 32px;\n",
              "      padding: 0 0 0 0;\n",
              "      width: 32px;\n",
              "    }\n",
              "\n",
              "    .colab-df-convert:hover {\n",
              "      background-color: #E2EBFA;\n",
              "      box-shadow: 0px 1px 2px rgba(60, 64, 67, 0.3), 0px 1px 3px 1px rgba(60, 64, 67, 0.15);\n",
              "      fill: #174EA6;\n",
              "    }\n",
              "\n",
              "    [theme=dark] .colab-df-convert {\n",
              "      background-color: #3B4455;\n",
              "      fill: #D2E3FC;\n",
              "    }\n",
              "\n",
              "    [theme=dark] .colab-df-convert:hover {\n",
              "      background-color: #434B5C;\n",
              "      box-shadow: 0px 1px 3px 1px rgba(0, 0, 0, 0.15);\n",
              "      filter: drop-shadow(0px 1px 2px rgba(0, 0, 0, 0.3));\n",
              "      fill: #FFFFFF;\n",
              "    }\n",
              "  </style>\n",
              "\n",
              "      <script>\n",
              "        const buttonEl =\n",
              "          document.querySelector('#df-c74f0fbc-7ced-430a-bd04-7a089e9d4e65 button.colab-df-convert');\n",
              "        buttonEl.style.display =\n",
              "          google.colab.kernel.accessAllowed ? 'block' : 'none';\n",
              "\n",
              "        async function convertToInteractive(key) {\n",
              "          const element = document.querySelector('#df-c74f0fbc-7ced-430a-bd04-7a089e9d4e65');\n",
              "          const dataTable =\n",
              "            await google.colab.kernel.invokeFunction('convertToInteractive',\n",
              "                                                     [key], {});\n",
              "          if (!dataTable) return;\n",
              "\n",
              "          const docLinkHtml = 'Like what you see? Visit the ' +\n",
              "            '<a target=\"_blank\" href=https://colab.research.google.com/notebooks/data_table.ipynb>data table notebook</a>'\n",
              "            + ' to learn more about interactive tables.';\n",
              "          element.innerHTML = '';\n",
              "          dataTable['output_type'] = 'display_data';\n",
              "          await google.colab.output.renderOutput(dataTable, element);\n",
              "          const docLink = document.createElement('div');\n",
              "          docLink.innerHTML = docLinkHtml;\n",
              "          element.appendChild(docLink);\n",
              "        }\n",
              "      </script>\n",
              "    </div>\n",
              "  </div>\n",
              "  "
            ]
          },
          "metadata": {},
          "execution_count": 3
        }
      ],
      "source": [
        "df = pd.read_csv(\"/content/drive/MyDrive/CodingDojo/02-MachineLearning/Week07/Data/Food_Establishment_Inspection_Data.csv\")\n",
        "df.head()"
      ]
    },
    {
      "cell_type": "code",
      "source": [
        "df.info()"
      ],
      "metadata": {
        "colab": {
          "base_uri": "https://localhost:8080/"
        },
        "id": "K0zTRVvJzPrd",
        "outputId": "763078ca-47bc-4af0-db64-2fefd823e4a9"
      },
      "execution_count": 4,
      "outputs": [
        {
          "output_type": "stream",
          "name": "stdout",
          "text": [
            "<class 'pandas.core.frame.DataFrame'>\n",
            "RangeIndex: 255383 entries, 0 to 255382\n",
            "Data columns (total 22 columns):\n",
            " #   Column                      Non-Null Count   Dtype  \n",
            "---  ------                      --------------   -----  \n",
            " 0   Name                        255383 non-null  object \n",
            " 1   Program Identifier          255383 non-null  object \n",
            " 2   Inspection Date             254815 non-null  object \n",
            " 3   Description                 255383 non-null  object \n",
            " 4   Address                     255383 non-null  object \n",
            " 5   City                        255383 non-null  object \n",
            " 6   Zip Code                    255383 non-null  object \n",
            " 7   Phone                       184130 non-null  object \n",
            " 8   Longitude                   255274 non-null  float64\n",
            " 9   Latitude                    255274 non-null  float64\n",
            " 10  Inspection Business Name    254815 non-null  object \n",
            " 11  Inspection Type             254815 non-null  object \n",
            " 12  Inspection Score            254775 non-null  float64\n",
            " 13  Inspection Result           254815 non-null  object \n",
            " 14  Inspection Closed Business  254815 non-null  object \n",
            " 15  Violation Type              142320 non-null  object \n",
            " 16  Violation Description       142320 non-null  object \n",
            " 17  Violation Points            255383 non-null  int64  \n",
            " 18  Business_ID                 255383 non-null  object \n",
            " 19  Inspection_Serial_Num       254815 non-null  object \n",
            " 20  Violation_Record_ID         142320 non-null  object \n",
            " 21  Grade                       193936 non-null  float64\n",
            "dtypes: float64(4), int64(1), object(17)\n",
            "memory usage: 42.9+ MB\n"
          ]
        }
      ]
    },
    {
      "cell_type": "markdown",
      "source": [
        "\n",
        "\n",
        "## First choice: dataset 1\n",
        "\n",
        "1. Source of data\n",
        "* https://catalog.data.gov/dataset/restaurant-inspections\n",
        "\n",
        "2. Brief description of data\n",
        "* Restaurant food inspections in King County\n",
        "\n",
        "3. What is the target?\n",
        "* inspection score (overall score restaurant got)\n",
        "\n",
        "4. What does one row represent? (A person? A business? An event? A product?)\n",
        "* an event, (an inspection)\n",
        "\n",
        "5. Is this a classification or regression problem?\n",
        "* regression\n",
        "\n",
        "6. How many features does the data have?\n",
        "* 21, but will probably drop some\n",
        "\n",
        "7. How many rows are in the dataset?\n",
        "* 255,382\n",
        "\n",
        "8. What, if any, challenges do you foresee in cleaning, exploring, or modeling this dataset?\n",
        " * cleaning-droping duplicates and columns\n",
        " * exploring-picking features relevant to target\n",
        " * modeling-is there enough unique info\n",
        "\n"
      ],
      "metadata": {
        "id": "u66IhB7WxNAQ"
      }
    },
    {
      "cell_type": "code",
      "source": [
        "df2 = pd.read_csv(\"/content/drive/MyDrive/CodingDojo/02-MachineLearning/Week07/Data/wines_SPA.csv\")\n",
        "df2.head()"
      ],
      "metadata": {
        "colab": {
          "base_uri": "https://localhost:8080/",
          "height": 206
        },
        "id": "DLoneCgk-nMP",
        "outputId": "79506e40-fb10-465f-a013-322afbc24feb"
      },
      "execution_count": 5,
      "outputs": [
        {
          "output_type": "execute_result",
          "data": {
            "text/plain": [
              "          winery           wine  year  rating  num_reviews country  \\\n",
              "0  Teso La Monja          Tinto  2013     4.9           58  Espana   \n",
              "1         Artadi  Vina El Pison  2018     4.9           31  Espana   \n",
              "2   Vega Sicilia          Unico  2009     4.8         1793  Espana   \n",
              "3   Vega Sicilia          Unico  1999     4.8         1705  Espana   \n",
              "4   Vega Sicilia          Unico  1996     4.8         1309  Espana   \n",
              "\n",
              "             region   price                  type  body  acidity  \n",
              "0              Toro  995.00              Toro Red   5.0      3.0  \n",
              "1    Vino de Espana  313.50           Tempranillo   4.0      2.0  \n",
              "2  Ribera del Duero  324.95  Ribera Del Duero Red   5.0      3.0  \n",
              "3  Ribera del Duero  692.96  Ribera Del Duero Red   5.0      3.0  \n",
              "4  Ribera del Duero  778.06  Ribera Del Duero Red   5.0      3.0  "
            ],
            "text/html": [
              "\n",
              "  <div id=\"df-20622e88-50b5-4e7b-bf77-fd4af290190a\">\n",
              "    <div class=\"colab-df-container\">\n",
              "      <div>\n",
              "<style scoped>\n",
              "    .dataframe tbody tr th:only-of-type {\n",
              "        vertical-align: middle;\n",
              "    }\n",
              "\n",
              "    .dataframe tbody tr th {\n",
              "        vertical-align: top;\n",
              "    }\n",
              "\n",
              "    .dataframe thead th {\n",
              "        text-align: right;\n",
              "    }\n",
              "</style>\n",
              "<table border=\"1\" class=\"dataframe\">\n",
              "  <thead>\n",
              "    <tr style=\"text-align: right;\">\n",
              "      <th></th>\n",
              "      <th>winery</th>\n",
              "      <th>wine</th>\n",
              "      <th>year</th>\n",
              "      <th>rating</th>\n",
              "      <th>num_reviews</th>\n",
              "      <th>country</th>\n",
              "      <th>region</th>\n",
              "      <th>price</th>\n",
              "      <th>type</th>\n",
              "      <th>body</th>\n",
              "      <th>acidity</th>\n",
              "    </tr>\n",
              "  </thead>\n",
              "  <tbody>\n",
              "    <tr>\n",
              "      <th>0</th>\n",
              "      <td>Teso La Monja</td>\n",
              "      <td>Tinto</td>\n",
              "      <td>2013</td>\n",
              "      <td>4.9</td>\n",
              "      <td>58</td>\n",
              "      <td>Espana</td>\n",
              "      <td>Toro</td>\n",
              "      <td>995.00</td>\n",
              "      <td>Toro Red</td>\n",
              "      <td>5.0</td>\n",
              "      <td>3.0</td>\n",
              "    </tr>\n",
              "    <tr>\n",
              "      <th>1</th>\n",
              "      <td>Artadi</td>\n",
              "      <td>Vina El Pison</td>\n",
              "      <td>2018</td>\n",
              "      <td>4.9</td>\n",
              "      <td>31</td>\n",
              "      <td>Espana</td>\n",
              "      <td>Vino de Espana</td>\n",
              "      <td>313.50</td>\n",
              "      <td>Tempranillo</td>\n",
              "      <td>4.0</td>\n",
              "      <td>2.0</td>\n",
              "    </tr>\n",
              "    <tr>\n",
              "      <th>2</th>\n",
              "      <td>Vega Sicilia</td>\n",
              "      <td>Unico</td>\n",
              "      <td>2009</td>\n",
              "      <td>4.8</td>\n",
              "      <td>1793</td>\n",
              "      <td>Espana</td>\n",
              "      <td>Ribera del Duero</td>\n",
              "      <td>324.95</td>\n",
              "      <td>Ribera Del Duero Red</td>\n",
              "      <td>5.0</td>\n",
              "      <td>3.0</td>\n",
              "    </tr>\n",
              "    <tr>\n",
              "      <th>3</th>\n",
              "      <td>Vega Sicilia</td>\n",
              "      <td>Unico</td>\n",
              "      <td>1999</td>\n",
              "      <td>4.8</td>\n",
              "      <td>1705</td>\n",
              "      <td>Espana</td>\n",
              "      <td>Ribera del Duero</td>\n",
              "      <td>692.96</td>\n",
              "      <td>Ribera Del Duero Red</td>\n",
              "      <td>5.0</td>\n",
              "      <td>3.0</td>\n",
              "    </tr>\n",
              "    <tr>\n",
              "      <th>4</th>\n",
              "      <td>Vega Sicilia</td>\n",
              "      <td>Unico</td>\n",
              "      <td>1996</td>\n",
              "      <td>4.8</td>\n",
              "      <td>1309</td>\n",
              "      <td>Espana</td>\n",
              "      <td>Ribera del Duero</td>\n",
              "      <td>778.06</td>\n",
              "      <td>Ribera Del Duero Red</td>\n",
              "      <td>5.0</td>\n",
              "      <td>3.0</td>\n",
              "    </tr>\n",
              "  </tbody>\n",
              "</table>\n",
              "</div>\n",
              "      <button class=\"colab-df-convert\" onclick=\"convertToInteractive('df-20622e88-50b5-4e7b-bf77-fd4af290190a')\"\n",
              "              title=\"Convert this dataframe to an interactive table.\"\n",
              "              style=\"display:none;\">\n",
              "        \n",
              "  <svg xmlns=\"http://www.w3.org/2000/svg\" height=\"24px\"viewBox=\"0 0 24 24\"\n",
              "       width=\"24px\">\n",
              "    <path d=\"M0 0h24v24H0V0z\" fill=\"none\"/>\n",
              "    <path d=\"M18.56 5.44l.94 2.06.94-2.06 2.06-.94-2.06-.94-.94-2.06-.94 2.06-2.06.94zm-11 1L8.5 8.5l.94-2.06 2.06-.94-2.06-.94L8.5 2.5l-.94 2.06-2.06.94zm10 10l.94 2.06.94-2.06 2.06-.94-2.06-.94-.94-2.06-.94 2.06-2.06.94z\"/><path d=\"M17.41 7.96l-1.37-1.37c-.4-.4-.92-.59-1.43-.59-.52 0-1.04.2-1.43.59L10.3 9.45l-7.72 7.72c-.78.78-.78 2.05 0 2.83L4 21.41c.39.39.9.59 1.41.59.51 0 1.02-.2 1.41-.59l7.78-7.78 2.81-2.81c.8-.78.8-2.07 0-2.86zM5.41 20L4 18.59l7.72-7.72 1.47 1.35L5.41 20z\"/>\n",
              "  </svg>\n",
              "      </button>\n",
              "      \n",
              "  <style>\n",
              "    .colab-df-container {\n",
              "      display:flex;\n",
              "      flex-wrap:wrap;\n",
              "      gap: 12px;\n",
              "    }\n",
              "\n",
              "    .colab-df-convert {\n",
              "      background-color: #E8F0FE;\n",
              "      border: none;\n",
              "      border-radius: 50%;\n",
              "      cursor: pointer;\n",
              "      display: none;\n",
              "      fill: #1967D2;\n",
              "      height: 32px;\n",
              "      padding: 0 0 0 0;\n",
              "      width: 32px;\n",
              "    }\n",
              "\n",
              "    .colab-df-convert:hover {\n",
              "      background-color: #E2EBFA;\n",
              "      box-shadow: 0px 1px 2px rgba(60, 64, 67, 0.3), 0px 1px 3px 1px rgba(60, 64, 67, 0.15);\n",
              "      fill: #174EA6;\n",
              "    }\n",
              "\n",
              "    [theme=dark] .colab-df-convert {\n",
              "      background-color: #3B4455;\n",
              "      fill: #D2E3FC;\n",
              "    }\n",
              "\n",
              "    [theme=dark] .colab-df-convert:hover {\n",
              "      background-color: #434B5C;\n",
              "      box-shadow: 0px 1px 3px 1px rgba(0, 0, 0, 0.15);\n",
              "      filter: drop-shadow(0px 1px 2px rgba(0, 0, 0, 0.3));\n",
              "      fill: #FFFFFF;\n",
              "    }\n",
              "  </style>\n",
              "\n",
              "      <script>\n",
              "        const buttonEl =\n",
              "          document.querySelector('#df-20622e88-50b5-4e7b-bf77-fd4af290190a button.colab-df-convert');\n",
              "        buttonEl.style.display =\n",
              "          google.colab.kernel.accessAllowed ? 'block' : 'none';\n",
              "\n",
              "        async function convertToInteractive(key) {\n",
              "          const element = document.querySelector('#df-20622e88-50b5-4e7b-bf77-fd4af290190a');\n",
              "          const dataTable =\n",
              "            await google.colab.kernel.invokeFunction('convertToInteractive',\n",
              "                                                     [key], {});\n",
              "          if (!dataTable) return;\n",
              "\n",
              "          const docLinkHtml = 'Like what you see? Visit the ' +\n",
              "            '<a target=\"_blank\" href=https://colab.research.google.com/notebooks/data_table.ipynb>data table notebook</a>'\n",
              "            + ' to learn more about interactive tables.';\n",
              "          element.innerHTML = '';\n",
              "          dataTable['output_type'] = 'display_data';\n",
              "          await google.colab.output.renderOutput(dataTable, element);\n",
              "          const docLink = document.createElement('div');\n",
              "          docLink.innerHTML = docLinkHtml;\n",
              "          element.appendChild(docLink);\n",
              "        }\n",
              "      </script>\n",
              "    </div>\n",
              "  </div>\n",
              "  "
            ]
          },
          "metadata": {},
          "execution_count": 5
        }
      ]
    },
    {
      "cell_type": "code",
      "source": [
        "df2.info()"
      ],
      "metadata": {
        "colab": {
          "base_uri": "https://localhost:8080/"
        },
        "id": "kaGqV5ofBAEC",
        "outputId": "03d71454-5a55-43d5-88fa-51480ad6b8a2"
      },
      "execution_count": 6,
      "outputs": [
        {
          "output_type": "stream",
          "name": "stdout",
          "text": [
            "<class 'pandas.core.frame.DataFrame'>\n",
            "RangeIndex: 7500 entries, 0 to 7499\n",
            "Data columns (total 11 columns):\n",
            " #   Column       Non-Null Count  Dtype  \n",
            "---  ------       --------------  -----  \n",
            " 0   winery       7500 non-null   object \n",
            " 1   wine         7500 non-null   object \n",
            " 2   year         7498 non-null   object \n",
            " 3   rating       7500 non-null   float64\n",
            " 4   num_reviews  7500 non-null   int64  \n",
            " 5   country      7500 non-null   object \n",
            " 6   region       7500 non-null   object \n",
            " 7   price        7500 non-null   float64\n",
            " 8   type         6955 non-null   object \n",
            " 9   body         6331 non-null   float64\n",
            " 10  acidity      6331 non-null   float64\n",
            "dtypes: float64(4), int64(1), object(6)\n",
            "memory usage: 644.7+ KB\n"
          ]
        }
      ]
    },
    {
      "cell_type": "markdown",
      "source": [
        "## Second choice: dataset 2\n",
        "1. Source of data\n",
        "* https://www.kaggle.com/datasets/fedesoriano/spanish-wine-quality-dataset\n",
        "\n",
        "2. Brief description of data\n",
        "* quality of different spanish wines\n",
        "\n",
        "3. What is the target?\n",
        "* rating\n",
        "\n",
        "4. What does one row represent? (A person? A business? An event? A product?)\n",
        "* a product(wine)\n",
        "\n",
        "5. Is this a classification or regression problem?\n",
        "* Maybe both? ranking could be classification, but continous numeric, regression\n",
        "\n",
        "6. How many features does the data have?\n",
        "* 9\n",
        "7. How many rows are in the dataset?\n",
        "* 7500\n",
        "8. What, if any, challenges do you foresee in cleaning, exploring, or modeling this dataset?\n",
        "* making sence of catagorical features and how they relate\n",
        "\n",
        "Create a NEW GitHub repository for this project, with a readme, and add your notebook to that new repository. Submit the link below."
      ],
      "metadata": {
        "id": "DFZuZ6Fn64Ux"
      }
    },
    {
      "cell_type": "code",
      "source": [
        "import numpy as np\n",
        "#import seaborn to make a nice heatmap for our confusion matrix\n",
        "import seaborn as sns\n",
        "\n",
        "#import some necessary tools\n",
        "from sklearn.datasets import load_breast_cancer, load_iris\n",
        "from sklearn.model_selection import train_test_split\n",
        "from sklearn.preprocessing import StandardScaler\n",
        "from sklearn.pipeline import make_pipeline\n",
        "\n",
        "#import accuracy, precision, recall, classification report, and confusion matrix scoring functions\n",
        "from sklearn.metrics import accuracy_score, precision_score, recall_score, classification_report, ConfusionMatrixDisplay\n",
        "\n",
        "#Importing the Classifiers\n",
        "from sklearn.tree import DecisionTreeClassifier\n",
        "from sklearn.dummy import DummyClassifier"
      ],
      "metadata": {
        "id": "DRczA61yCUdS"
      },
      "execution_count": 7,
      "outputs": []
    },
    {
      "cell_type": "markdown",
      "source": [
        "#Project 2 - Part 2:\n",
        "\n",
        "\n",
        "Using the approved dataset you proposed for Project 2 - Part 1 last week, you will clean and explore the data set.\n",
        "\n",
        "To meet the requirements for this week you must have:\n",
        "\n",
        "* Deleted unnecessary columns.\n",
        "* Deleted duplicate rows.\n",
        "* Identified and addressed missing values.\n",
        "* Identified and corrected inconsistencies in data for categorical values (i.e. Cat, cat, cats).\n",
        "* Produced univariate visuals for the target and all features.\n",
        "* Identified outliers.\n",
        "* Clearly commented all of your cleaning steps and described any decisions you made.\n",
        "* Commit your file to your Github repository and submit the link below."
      ],
      "metadata": {
        "id": "VORhgmgbrNxV"
      }
    },
    {
      "cell_type": "code",
      "source": [
        "df.head()\n"
      ],
      "metadata": {
        "colab": {
          "base_uri": "https://localhost:8080/",
          "height": 664
        },
        "id": "Kb2DwD4QrM6-",
        "outputId": "6d4bb58a-f535-4731-e65f-1e4be36fe764"
      },
      "execution_count": 8,
      "outputs": [
        {
          "output_type": "execute_result",
          "data": {
            "text/plain": [
              "               Name Program Identifier Inspection Date  \\\n",
              "0  #807 TUTTA BELLA   #807 TUTTA BELLA      03/02/2023   \n",
              "1  #807 TUTTA BELLA   #807 TUTTA BELLA      03/02/2023   \n",
              "2  #807 TUTTA BELLA   #807 TUTTA BELLA      08/31/2022   \n",
              "3  #807 TUTTA BELLA   #807 TUTTA BELLA      08/31/2022   \n",
              "4  #807 TUTTA BELLA   #807 TUTTA BELLA      01/13/2022   \n",
              "\n",
              "                        Description          Address     City Zip Code  \\\n",
              "0  Seating 0-12 - Risk Category III  2746 NE 45TH ST  SEATTLE    98105   \n",
              "1  Seating 0-12 - Risk Category III  2746 NE 45TH ST  SEATTLE    98105   \n",
              "2  Seating 0-12 - Risk Category III  2746 NE 45TH ST  SEATTLE    98105   \n",
              "3  Seating 0-12 - Risk Category III  2746 NE 45TH ST  SEATTLE    98105   \n",
              "4  Seating 0-12 - Risk Category III  2746 NE 45TH ST  SEATTLE    98105   \n",
              "\n",
              "            Phone   Longitude   Latitude  ... Inspection Score  \\\n",
              "0  (206) 722-6400 -122.296415  47.662311  ...             20.0   \n",
              "1  (206) 722-6400 -122.296415  47.662311  ...             20.0   \n",
              "2  (206) 722-6400 -122.296415  47.662311  ...             10.0   \n",
              "3  (206) 722-6400 -122.296415  47.662311  ...             10.0   \n",
              "4  (206) 722-6400 -122.296415  47.662311  ...              0.0   \n",
              "\n",
              "  Inspection Result  Inspection Closed Business Violation Type  \\\n",
              "0    Unsatisfactory                       False            RED   \n",
              "1    Unsatisfactory                       False            RED   \n",
              "2    Unsatisfactory                       False           BLUE   \n",
              "3    Unsatisfactory                       False            RED   \n",
              "4      Satisfactory                       False            NaN   \n",
              "\n",
              "                               Violation Description Violation Points  \\\n",
              "0  1300 - Food contact surfaces cleaned and sanit...               15   \n",
              "1  2120 - Proper cold holding temperatures ( 42 d...                5   \n",
              "2  3200 - Insects, rodents, animals not present; ...                5   \n",
              "3  0200 - Food Worker Cards current for all food ...                5   \n",
              "4                                                NaN                0   \n",
              "\n",
              "  Business_ID  Inspection_Serial_Num Violation_Record_ID Grade  \n",
              "0   PR0089260              DAJ5DTHLV           IVBTPZO0B   1.0  \n",
              "1   PR0089260              DAJ5DTHLV           IV5GOME67   1.0  \n",
              "2   PR0089260              DAEEWQC0L           IVQ7QYW2V   1.0  \n",
              "3   PR0089260              DAEEWQC0L           IV0J437H6   1.0  \n",
              "4   PR0089260              DAWWGK08K                 NaN   1.0  \n",
              "\n",
              "[5 rows x 22 columns]"
            ],
            "text/html": [
              "\n",
              "  <div id=\"df-795fe8f7-e220-4d0c-8bae-dd85899385af\">\n",
              "    <div class=\"colab-df-container\">\n",
              "      <div>\n",
              "<style scoped>\n",
              "    .dataframe tbody tr th:only-of-type {\n",
              "        vertical-align: middle;\n",
              "    }\n",
              "\n",
              "    .dataframe tbody tr th {\n",
              "        vertical-align: top;\n",
              "    }\n",
              "\n",
              "    .dataframe thead th {\n",
              "        text-align: right;\n",
              "    }\n",
              "</style>\n",
              "<table border=\"1\" class=\"dataframe\">\n",
              "  <thead>\n",
              "    <tr style=\"text-align: right;\">\n",
              "      <th></th>\n",
              "      <th>Name</th>\n",
              "      <th>Program Identifier</th>\n",
              "      <th>Inspection Date</th>\n",
              "      <th>Description</th>\n",
              "      <th>Address</th>\n",
              "      <th>City</th>\n",
              "      <th>Zip Code</th>\n",
              "      <th>Phone</th>\n",
              "      <th>Longitude</th>\n",
              "      <th>Latitude</th>\n",
              "      <th>...</th>\n",
              "      <th>Inspection Score</th>\n",
              "      <th>Inspection Result</th>\n",
              "      <th>Inspection Closed Business</th>\n",
              "      <th>Violation Type</th>\n",
              "      <th>Violation Description</th>\n",
              "      <th>Violation Points</th>\n",
              "      <th>Business_ID</th>\n",
              "      <th>Inspection_Serial_Num</th>\n",
              "      <th>Violation_Record_ID</th>\n",
              "      <th>Grade</th>\n",
              "    </tr>\n",
              "  </thead>\n",
              "  <tbody>\n",
              "    <tr>\n",
              "      <th>0</th>\n",
              "      <td>#807 TUTTA BELLA</td>\n",
              "      <td>#807 TUTTA BELLA</td>\n",
              "      <td>03/02/2023</td>\n",
              "      <td>Seating 0-12 - Risk Category III</td>\n",
              "      <td>2746 NE 45TH ST</td>\n",
              "      <td>SEATTLE</td>\n",
              "      <td>98105</td>\n",
              "      <td>(206) 722-6400</td>\n",
              "      <td>-122.296415</td>\n",
              "      <td>47.662311</td>\n",
              "      <td>...</td>\n",
              "      <td>20.0</td>\n",
              "      <td>Unsatisfactory</td>\n",
              "      <td>False</td>\n",
              "      <td>RED</td>\n",
              "      <td>1300 - Food contact surfaces cleaned and sanit...</td>\n",
              "      <td>15</td>\n",
              "      <td>PR0089260</td>\n",
              "      <td>DAJ5DTHLV</td>\n",
              "      <td>IVBTPZO0B</td>\n",
              "      <td>1.0</td>\n",
              "    </tr>\n",
              "    <tr>\n",
              "      <th>1</th>\n",
              "      <td>#807 TUTTA BELLA</td>\n",
              "      <td>#807 TUTTA BELLA</td>\n",
              "      <td>03/02/2023</td>\n",
              "      <td>Seating 0-12 - Risk Category III</td>\n",
              "      <td>2746 NE 45TH ST</td>\n",
              "      <td>SEATTLE</td>\n",
              "      <td>98105</td>\n",
              "      <td>(206) 722-6400</td>\n",
              "      <td>-122.296415</td>\n",
              "      <td>47.662311</td>\n",
              "      <td>...</td>\n",
              "      <td>20.0</td>\n",
              "      <td>Unsatisfactory</td>\n",
              "      <td>False</td>\n",
              "      <td>RED</td>\n",
              "      <td>2120 - Proper cold holding temperatures ( 42 d...</td>\n",
              "      <td>5</td>\n",
              "      <td>PR0089260</td>\n",
              "      <td>DAJ5DTHLV</td>\n",
              "      <td>IV5GOME67</td>\n",
              "      <td>1.0</td>\n",
              "    </tr>\n",
              "    <tr>\n",
              "      <th>2</th>\n",
              "      <td>#807 TUTTA BELLA</td>\n",
              "      <td>#807 TUTTA BELLA</td>\n",
              "      <td>08/31/2022</td>\n",
              "      <td>Seating 0-12 - Risk Category III</td>\n",
              "      <td>2746 NE 45TH ST</td>\n",
              "      <td>SEATTLE</td>\n",
              "      <td>98105</td>\n",
              "      <td>(206) 722-6400</td>\n",
              "      <td>-122.296415</td>\n",
              "      <td>47.662311</td>\n",
              "      <td>...</td>\n",
              "      <td>10.0</td>\n",
              "      <td>Unsatisfactory</td>\n",
              "      <td>False</td>\n",
              "      <td>BLUE</td>\n",
              "      <td>3200 - Insects, rodents, animals not present; ...</td>\n",
              "      <td>5</td>\n",
              "      <td>PR0089260</td>\n",
              "      <td>DAEEWQC0L</td>\n",
              "      <td>IVQ7QYW2V</td>\n",
              "      <td>1.0</td>\n",
              "    </tr>\n",
              "    <tr>\n",
              "      <th>3</th>\n",
              "      <td>#807 TUTTA BELLA</td>\n",
              "      <td>#807 TUTTA BELLA</td>\n",
              "      <td>08/31/2022</td>\n",
              "      <td>Seating 0-12 - Risk Category III</td>\n",
              "      <td>2746 NE 45TH ST</td>\n",
              "      <td>SEATTLE</td>\n",
              "      <td>98105</td>\n",
              "      <td>(206) 722-6400</td>\n",
              "      <td>-122.296415</td>\n",
              "      <td>47.662311</td>\n",
              "      <td>...</td>\n",
              "      <td>10.0</td>\n",
              "      <td>Unsatisfactory</td>\n",
              "      <td>False</td>\n",
              "      <td>RED</td>\n",
              "      <td>0200 - Food Worker Cards current for all food ...</td>\n",
              "      <td>5</td>\n",
              "      <td>PR0089260</td>\n",
              "      <td>DAEEWQC0L</td>\n",
              "      <td>IV0J437H6</td>\n",
              "      <td>1.0</td>\n",
              "    </tr>\n",
              "    <tr>\n",
              "      <th>4</th>\n",
              "      <td>#807 TUTTA BELLA</td>\n",
              "      <td>#807 TUTTA BELLA</td>\n",
              "      <td>01/13/2022</td>\n",
              "      <td>Seating 0-12 - Risk Category III</td>\n",
              "      <td>2746 NE 45TH ST</td>\n",
              "      <td>SEATTLE</td>\n",
              "      <td>98105</td>\n",
              "      <td>(206) 722-6400</td>\n",
              "      <td>-122.296415</td>\n",
              "      <td>47.662311</td>\n",
              "      <td>...</td>\n",
              "      <td>0.0</td>\n",
              "      <td>Satisfactory</td>\n",
              "      <td>False</td>\n",
              "      <td>NaN</td>\n",
              "      <td>NaN</td>\n",
              "      <td>0</td>\n",
              "      <td>PR0089260</td>\n",
              "      <td>DAWWGK08K</td>\n",
              "      <td>NaN</td>\n",
              "      <td>1.0</td>\n",
              "    </tr>\n",
              "  </tbody>\n",
              "</table>\n",
              "<p>5 rows × 22 columns</p>\n",
              "</div>\n",
              "      <button class=\"colab-df-convert\" onclick=\"convertToInteractive('df-795fe8f7-e220-4d0c-8bae-dd85899385af')\"\n",
              "              title=\"Convert this dataframe to an interactive table.\"\n",
              "              style=\"display:none;\">\n",
              "        \n",
              "  <svg xmlns=\"http://www.w3.org/2000/svg\" height=\"24px\"viewBox=\"0 0 24 24\"\n",
              "       width=\"24px\">\n",
              "    <path d=\"M0 0h24v24H0V0z\" fill=\"none\"/>\n",
              "    <path d=\"M18.56 5.44l.94 2.06.94-2.06 2.06-.94-2.06-.94-.94-2.06-.94 2.06-2.06.94zm-11 1L8.5 8.5l.94-2.06 2.06-.94-2.06-.94L8.5 2.5l-.94 2.06-2.06.94zm10 10l.94 2.06.94-2.06 2.06-.94-2.06-.94-.94-2.06-.94 2.06-2.06.94z\"/><path d=\"M17.41 7.96l-1.37-1.37c-.4-.4-.92-.59-1.43-.59-.52 0-1.04.2-1.43.59L10.3 9.45l-7.72 7.72c-.78.78-.78 2.05 0 2.83L4 21.41c.39.39.9.59 1.41.59.51 0 1.02-.2 1.41-.59l7.78-7.78 2.81-2.81c.8-.78.8-2.07 0-2.86zM5.41 20L4 18.59l7.72-7.72 1.47 1.35L5.41 20z\"/>\n",
              "  </svg>\n",
              "      </button>\n",
              "      \n",
              "  <style>\n",
              "    .colab-df-container {\n",
              "      display:flex;\n",
              "      flex-wrap:wrap;\n",
              "      gap: 12px;\n",
              "    }\n",
              "\n",
              "    .colab-df-convert {\n",
              "      background-color: #E8F0FE;\n",
              "      border: none;\n",
              "      border-radius: 50%;\n",
              "      cursor: pointer;\n",
              "      display: none;\n",
              "      fill: #1967D2;\n",
              "      height: 32px;\n",
              "      padding: 0 0 0 0;\n",
              "      width: 32px;\n",
              "    }\n",
              "\n",
              "    .colab-df-convert:hover {\n",
              "      background-color: #E2EBFA;\n",
              "      box-shadow: 0px 1px 2px rgba(60, 64, 67, 0.3), 0px 1px 3px 1px rgba(60, 64, 67, 0.15);\n",
              "      fill: #174EA6;\n",
              "    }\n",
              "\n",
              "    [theme=dark] .colab-df-convert {\n",
              "      background-color: #3B4455;\n",
              "      fill: #D2E3FC;\n",
              "    }\n",
              "\n",
              "    [theme=dark] .colab-df-convert:hover {\n",
              "      background-color: #434B5C;\n",
              "      box-shadow: 0px 1px 3px 1px rgba(0, 0, 0, 0.15);\n",
              "      filter: drop-shadow(0px 1px 2px rgba(0, 0, 0, 0.3));\n",
              "      fill: #FFFFFF;\n",
              "    }\n",
              "  </style>\n",
              "\n",
              "      <script>\n",
              "        const buttonEl =\n",
              "          document.querySelector('#df-795fe8f7-e220-4d0c-8bae-dd85899385af button.colab-df-convert');\n",
              "        buttonEl.style.display =\n",
              "          google.colab.kernel.accessAllowed ? 'block' : 'none';\n",
              "\n",
              "        async function convertToInteractive(key) {\n",
              "          const element = document.querySelector('#df-795fe8f7-e220-4d0c-8bae-dd85899385af');\n",
              "          const dataTable =\n",
              "            await google.colab.kernel.invokeFunction('convertToInteractive',\n",
              "                                                     [key], {});\n",
              "          if (!dataTable) return;\n",
              "\n",
              "          const docLinkHtml = 'Like what you see? Visit the ' +\n",
              "            '<a target=\"_blank\" href=https://colab.research.google.com/notebooks/data_table.ipynb>data table notebook</a>'\n",
              "            + ' to learn more about interactive tables.';\n",
              "          element.innerHTML = '';\n",
              "          dataTable['output_type'] = 'display_data';\n",
              "          await google.colab.output.renderOutput(dataTable, element);\n",
              "          const docLink = document.createElement('div');\n",
              "          docLink.innerHTML = docLinkHtml;\n",
              "          element.appendChild(docLink);\n",
              "        }\n",
              "      </script>\n",
              "    </div>\n",
              "  </div>\n",
              "  "
            ]
          },
          "metadata": {},
          "execution_count": 8
        }
      ]
    },
    {
      "cell_type": "code",
      "source": [
        "df.info()\n"
      ],
      "metadata": {
        "colab": {
          "base_uri": "https://localhost:8080/"
        },
        "id": "6xRhEqWX5UU6",
        "outputId": "c9d1bba8-95c7-4ed5-89f9-588eb1d0860f"
      },
      "execution_count": 9,
      "outputs": [
        {
          "output_type": "stream",
          "name": "stdout",
          "text": [
            "<class 'pandas.core.frame.DataFrame'>\n",
            "RangeIndex: 255383 entries, 0 to 255382\n",
            "Data columns (total 22 columns):\n",
            " #   Column                      Non-Null Count   Dtype  \n",
            "---  ------                      --------------   -----  \n",
            " 0   Name                        255383 non-null  object \n",
            " 1   Program Identifier          255383 non-null  object \n",
            " 2   Inspection Date             254815 non-null  object \n",
            " 3   Description                 255383 non-null  object \n",
            " 4   Address                     255383 non-null  object \n",
            " 5   City                        255383 non-null  object \n",
            " 6   Zip Code                    255383 non-null  object \n",
            " 7   Phone                       184130 non-null  object \n",
            " 8   Longitude                   255274 non-null  float64\n",
            " 9   Latitude                    255274 non-null  float64\n",
            " 10  Inspection Business Name    254815 non-null  object \n",
            " 11  Inspection Type             254815 non-null  object \n",
            " 12  Inspection Score            254775 non-null  float64\n",
            " 13  Inspection Result           254815 non-null  object \n",
            " 14  Inspection Closed Business  254815 non-null  object \n",
            " 15  Violation Type              142320 non-null  object \n",
            " 16  Violation Description       142320 non-null  object \n",
            " 17  Violation Points            255383 non-null  int64  \n",
            " 18  Business_ID                 255383 non-null  object \n",
            " 19  Inspection_Serial_Num       254815 non-null  object \n",
            " 20  Violation_Record_ID         142320 non-null  object \n",
            " 21  Grade                       193936 non-null  float64\n",
            "dtypes: float64(4), int64(1), object(17)\n",
            "memory usage: 42.9+ MB\n"
          ]
        }
      ]
    },
    {
      "cell_type": "code",
      "source": [
        "df.describe()"
      ],
      "metadata": {
        "colab": {
          "base_uri": "https://localhost:8080/",
          "height": 300
        },
        "id": "KnjSWCui5hM9",
        "outputId": "0c663881-36c8-407e-ab39-4e186a2281ae"
      },
      "execution_count": 10,
      "outputs": [
        {
          "output_type": "execute_result",
          "data": {
            "text/plain": [
              "           Longitude       Latitude  Inspection Score  Violation Points  \\\n",
              "count  255274.000000  255274.000000     254775.000000     255383.000000   \n",
              "mean     -122.255499      47.563923         14.129899          4.396068   \n",
              "std         0.114394       0.128609         20.311607          6.114995   \n",
              "min      -122.898939      47.043716         -2.000000          0.000000   \n",
              "25%      -122.333577      47.479392          0.000000          0.000000   \n",
              "50%      -122.298753      47.604224          5.000000          3.000000   \n",
              "75%      -122.197494      47.661558         20.000000          5.000000   \n",
              "max      -121.089820      48.772284        178.000000         30.000000   \n",
              "\n",
              "               Grade  \n",
              "count  193936.000000  \n",
              "mean        1.399957  \n",
              "std         0.599735  \n",
              "min         1.000000  \n",
              "25%         1.000000  \n",
              "50%         1.000000  \n",
              "75%         2.000000  \n",
              "max         4.000000  "
            ],
            "text/html": [
              "\n",
              "  <div id=\"df-e17fa39a-99ea-4f8c-a239-20eabab559dd\">\n",
              "    <div class=\"colab-df-container\">\n",
              "      <div>\n",
              "<style scoped>\n",
              "    .dataframe tbody tr th:only-of-type {\n",
              "        vertical-align: middle;\n",
              "    }\n",
              "\n",
              "    .dataframe tbody tr th {\n",
              "        vertical-align: top;\n",
              "    }\n",
              "\n",
              "    .dataframe thead th {\n",
              "        text-align: right;\n",
              "    }\n",
              "</style>\n",
              "<table border=\"1\" class=\"dataframe\">\n",
              "  <thead>\n",
              "    <tr style=\"text-align: right;\">\n",
              "      <th></th>\n",
              "      <th>Longitude</th>\n",
              "      <th>Latitude</th>\n",
              "      <th>Inspection Score</th>\n",
              "      <th>Violation Points</th>\n",
              "      <th>Grade</th>\n",
              "    </tr>\n",
              "  </thead>\n",
              "  <tbody>\n",
              "    <tr>\n",
              "      <th>count</th>\n",
              "      <td>255274.000000</td>\n",
              "      <td>255274.000000</td>\n",
              "      <td>254775.000000</td>\n",
              "      <td>255383.000000</td>\n",
              "      <td>193936.000000</td>\n",
              "    </tr>\n",
              "    <tr>\n",
              "      <th>mean</th>\n",
              "      <td>-122.255499</td>\n",
              "      <td>47.563923</td>\n",
              "      <td>14.129899</td>\n",
              "      <td>4.396068</td>\n",
              "      <td>1.399957</td>\n",
              "    </tr>\n",
              "    <tr>\n",
              "      <th>std</th>\n",
              "      <td>0.114394</td>\n",
              "      <td>0.128609</td>\n",
              "      <td>20.311607</td>\n",
              "      <td>6.114995</td>\n",
              "      <td>0.599735</td>\n",
              "    </tr>\n",
              "    <tr>\n",
              "      <th>min</th>\n",
              "      <td>-122.898939</td>\n",
              "      <td>47.043716</td>\n",
              "      <td>-2.000000</td>\n",
              "      <td>0.000000</td>\n",
              "      <td>1.000000</td>\n",
              "    </tr>\n",
              "    <tr>\n",
              "      <th>25%</th>\n",
              "      <td>-122.333577</td>\n",
              "      <td>47.479392</td>\n",
              "      <td>0.000000</td>\n",
              "      <td>0.000000</td>\n",
              "      <td>1.000000</td>\n",
              "    </tr>\n",
              "    <tr>\n",
              "      <th>50%</th>\n",
              "      <td>-122.298753</td>\n",
              "      <td>47.604224</td>\n",
              "      <td>5.000000</td>\n",
              "      <td>3.000000</td>\n",
              "      <td>1.000000</td>\n",
              "    </tr>\n",
              "    <tr>\n",
              "      <th>75%</th>\n",
              "      <td>-122.197494</td>\n",
              "      <td>47.661558</td>\n",
              "      <td>20.000000</td>\n",
              "      <td>5.000000</td>\n",
              "      <td>2.000000</td>\n",
              "    </tr>\n",
              "    <tr>\n",
              "      <th>max</th>\n",
              "      <td>-121.089820</td>\n",
              "      <td>48.772284</td>\n",
              "      <td>178.000000</td>\n",
              "      <td>30.000000</td>\n",
              "      <td>4.000000</td>\n",
              "    </tr>\n",
              "  </tbody>\n",
              "</table>\n",
              "</div>\n",
              "      <button class=\"colab-df-convert\" onclick=\"convertToInteractive('df-e17fa39a-99ea-4f8c-a239-20eabab559dd')\"\n",
              "              title=\"Convert this dataframe to an interactive table.\"\n",
              "              style=\"display:none;\">\n",
              "        \n",
              "  <svg xmlns=\"http://www.w3.org/2000/svg\" height=\"24px\"viewBox=\"0 0 24 24\"\n",
              "       width=\"24px\">\n",
              "    <path d=\"M0 0h24v24H0V0z\" fill=\"none\"/>\n",
              "    <path d=\"M18.56 5.44l.94 2.06.94-2.06 2.06-.94-2.06-.94-.94-2.06-.94 2.06-2.06.94zm-11 1L8.5 8.5l.94-2.06 2.06-.94-2.06-.94L8.5 2.5l-.94 2.06-2.06.94zm10 10l.94 2.06.94-2.06 2.06-.94-2.06-.94-.94-2.06-.94 2.06-2.06.94z\"/><path d=\"M17.41 7.96l-1.37-1.37c-.4-.4-.92-.59-1.43-.59-.52 0-1.04.2-1.43.59L10.3 9.45l-7.72 7.72c-.78.78-.78 2.05 0 2.83L4 21.41c.39.39.9.59 1.41.59.51 0 1.02-.2 1.41-.59l7.78-7.78 2.81-2.81c.8-.78.8-2.07 0-2.86zM5.41 20L4 18.59l7.72-7.72 1.47 1.35L5.41 20z\"/>\n",
              "  </svg>\n",
              "      </button>\n",
              "      \n",
              "  <style>\n",
              "    .colab-df-container {\n",
              "      display:flex;\n",
              "      flex-wrap:wrap;\n",
              "      gap: 12px;\n",
              "    }\n",
              "\n",
              "    .colab-df-convert {\n",
              "      background-color: #E8F0FE;\n",
              "      border: none;\n",
              "      border-radius: 50%;\n",
              "      cursor: pointer;\n",
              "      display: none;\n",
              "      fill: #1967D2;\n",
              "      height: 32px;\n",
              "      padding: 0 0 0 0;\n",
              "      width: 32px;\n",
              "    }\n",
              "\n",
              "    .colab-df-convert:hover {\n",
              "      background-color: #E2EBFA;\n",
              "      box-shadow: 0px 1px 2px rgba(60, 64, 67, 0.3), 0px 1px 3px 1px rgba(60, 64, 67, 0.15);\n",
              "      fill: #174EA6;\n",
              "    }\n",
              "\n",
              "    [theme=dark] .colab-df-convert {\n",
              "      background-color: #3B4455;\n",
              "      fill: #D2E3FC;\n",
              "    }\n",
              "\n",
              "    [theme=dark] .colab-df-convert:hover {\n",
              "      background-color: #434B5C;\n",
              "      box-shadow: 0px 1px 3px 1px rgba(0, 0, 0, 0.15);\n",
              "      filter: drop-shadow(0px 1px 2px rgba(0, 0, 0, 0.3));\n",
              "      fill: #FFFFFF;\n",
              "    }\n",
              "  </style>\n",
              "\n",
              "      <script>\n",
              "        const buttonEl =\n",
              "          document.querySelector('#df-e17fa39a-99ea-4f8c-a239-20eabab559dd button.colab-df-convert');\n",
              "        buttonEl.style.display =\n",
              "          google.colab.kernel.accessAllowed ? 'block' : 'none';\n",
              "\n",
              "        async function convertToInteractive(key) {\n",
              "          const element = document.querySelector('#df-e17fa39a-99ea-4f8c-a239-20eabab559dd');\n",
              "          const dataTable =\n",
              "            await google.colab.kernel.invokeFunction('convertToInteractive',\n",
              "                                                     [key], {});\n",
              "          if (!dataTable) return;\n",
              "\n",
              "          const docLinkHtml = 'Like what you see? Visit the ' +\n",
              "            '<a target=\"_blank\" href=https://colab.research.google.com/notebooks/data_table.ipynb>data table notebook</a>'\n",
              "            + ' to learn more about interactive tables.';\n",
              "          element.innerHTML = '';\n",
              "          dataTable['output_type'] = 'display_data';\n",
              "          await google.colab.output.renderOutput(dataTable, element);\n",
              "          const docLink = document.createElement('div');\n",
              "          docLink.innerHTML = docLinkHtml;\n",
              "          element.appendChild(docLink);\n",
              "        }\n",
              "      </script>\n",
              "    </div>\n",
              "  </div>\n",
              "  "
            ]
          },
          "metadata": {},
          "execution_count": 10
        }
      ]
    },
    {
      "cell_type": "code",
      "source": [
        "df.nunique()"
      ],
      "metadata": {
        "colab": {
          "base_uri": "https://localhost:8080/"
        },
        "id": "BA4BIT8V4Vn6",
        "outputId": "8df4aa36-a3f5-4274-9169-17388df7216b"
      },
      "execution_count": 11,
      "outputs": [
        {
          "output_type": "execute_result",
          "data": {
            "text/plain": [
              "Name                            9737\n",
              "Program Identifier             11193\n",
              "Inspection Date                 5135\n",
              "Description                       33\n",
              "Address                         9919\n",
              "City                              95\n",
              "Zip Code                         190\n",
              "Phone                           7290\n",
              "Longitude                       9562\n",
              "Latitude                        9567\n",
              "Inspection Business Name        9269\n",
              "Inspection Type                    3\n",
              "Inspection Score                 141\n",
              "Inspection Result                 18\n",
              "Inspection Closed Business         2\n",
              "Violation Type                     2\n",
              "Violation Description            147\n",
              "Violation Points                   8\n",
              "Business_ID                    12392\n",
              "Inspection_Serial_Num         180373\n",
              "Violation_Record_ID           142320\n",
              "Grade                              4\n",
              "dtype: int64"
            ]
          },
          "metadata": {},
          "execution_count": 11
        }
      ]
    },
    {
      "cell_type": "code",
      "source": [
        "pd.Series({c: df[c].unique() for c in df})"
      ],
      "metadata": {
        "colab": {
          "base_uri": "https://localhost:8080/"
        },
        "id": "XE6miSeX4IP_",
        "outputId": "6d552275-31ea-43d7-8bca-b51f845cfac6"
      },
      "execution_count": 12,
      "outputs": [
        {
          "output_type": "execute_result",
          "data": {
            "text/plain": [
              "Name                          [#807 TUTTA BELLA, +MAS CAFE, ?al?al Cafe, 100...\n",
              "Program Identifier            [#807 TUTTA BELLA, +MAS CAFE, ?al?al Cafe, 100...\n",
              "Inspection Date               [03/02/2023, 08/31/2022, 01/13/2022, 01/06/202...\n",
              "Description                   [Seating 0-12 - Risk Category III, Seating 13-...\n",
              "Address                       [2746 NE 45TH ST, 1906 N 34TH ST , 122 2ND AVE...\n",
              "City                          [SEATTLE, REDMOND, KENT, KENMORE, Seattle, ISS...\n",
              "Zip Code                      [98105, 98103, 98104, 98109, 98101, 98052, 980...\n",
              "Phone                         [(206) 722-6400, (206) 491-4694, (952) 649-862...\n",
              "Longitude                     [-122.29641473, -122.3345870767, -122.33134, -...\n",
              "Latitude                      [47.66231092, 47.6481803613, 47.60141, 47.6290...\n",
              "Inspection Business Name      [#807 TUTTA BELLA, +MAS CAFE, ?al?al Cafe, 100...\n",
              "Inspection Type               [Routine Inspection/Field Review, Return Inspe...\n",
              "Inspection Score              [20.0, 10.0, 0.0, 30.0, 47.0, 25.0, 5.0, 32.0,...\n",
              "Inspection Result             [Unsatisfactory, Satisfactory, Complete, Incom...\n",
              "Inspection Closed Business                                   [False, True, nan]\n",
              "Violation Type                                                 [RED, BLUE, nan]\n",
              "Violation Description         [1300 - Food contact surfaces cleaned and sani...\n",
              "Violation Points                                   [15, 5, 0, 25, 2, 10, 3, 30]\n",
              "Business_ID                   [PR0089260, PR0046367, PR0090156, PR0085848, P...\n",
              "Inspection_Serial_Num         [DAJ5DTHLV, DAEEWQC0L, DAWWGK08K, DAUHM2FT8, D...\n",
              "Violation_Record_ID           [IVBTPZO0B, IV5GOME67, IVQ7QYW2V, IV0J437H6, n...\n",
              "Grade                                                 [1.0, 2.0, nan, 3.0, 4.0]\n",
              "dtype: object"
            ]
          },
          "metadata": {},
          "execution_count": 12
        }
      ]
    },
    {
      "cell_type": "markdown",
      "source": [
        "### Deleted unnecessary columns\n"
      ],
      "metadata": {
        "id": "YqAdR5df44kx"
      }
    },
    {
      "cell_type": "markdown",
      "source": [
        "* deleting unnecessary columns"
      ],
      "metadata": {
        "id": "tBNg2J-W6EjM"
      }
    },
    {
      "cell_type": "code",
      "source": [
        " df.drop(columns=['Address', 'City','Phone','Longitude','Latitude'], inplace=True)"
      ],
      "metadata": {
        "id": "DcBrHMdu6UBN"
      },
      "execution_count": 13,
      "outputs": []
    },
    {
      "cell_type": "code",
      "source": [
        "df.head()"
      ],
      "metadata": {
        "colab": {
          "base_uri": "https://localhost:8080/",
          "height": 617
        },
        "id": "a_DnDYgF7Jxh",
        "outputId": "9e6e1251-2921-4550-b2ea-2f5b1e36985a"
      },
      "execution_count": 14,
      "outputs": [
        {
          "output_type": "execute_result",
          "data": {
            "text/plain": [
              "               Name Program Identifier Inspection Date  \\\n",
              "0  #807 TUTTA BELLA   #807 TUTTA BELLA      03/02/2023   \n",
              "1  #807 TUTTA BELLA   #807 TUTTA BELLA      03/02/2023   \n",
              "2  #807 TUTTA BELLA   #807 TUTTA BELLA      08/31/2022   \n",
              "3  #807 TUTTA BELLA   #807 TUTTA BELLA      08/31/2022   \n",
              "4  #807 TUTTA BELLA   #807 TUTTA BELLA      01/13/2022   \n",
              "\n",
              "                        Description Zip Code Inspection Business Name  \\\n",
              "0  Seating 0-12 - Risk Category III    98105         #807 TUTTA BELLA   \n",
              "1  Seating 0-12 - Risk Category III    98105         #807 TUTTA BELLA   \n",
              "2  Seating 0-12 - Risk Category III    98105         #807 TUTTA BELLA   \n",
              "3  Seating 0-12 - Risk Category III    98105         #807 TUTTA BELLA   \n",
              "4  Seating 0-12 - Risk Category III    98105         #807 TUTTA BELLA   \n",
              "\n",
              "                   Inspection Type  Inspection Score Inspection Result  \\\n",
              "0  Routine Inspection/Field Review              20.0    Unsatisfactory   \n",
              "1  Routine Inspection/Field Review              20.0    Unsatisfactory   \n",
              "2  Routine Inspection/Field Review              10.0    Unsatisfactory   \n",
              "3  Routine Inspection/Field Review              10.0    Unsatisfactory   \n",
              "4  Routine Inspection/Field Review               0.0      Satisfactory   \n",
              "\n",
              "  Inspection Closed Business Violation Type  \\\n",
              "0                      False            RED   \n",
              "1                      False            RED   \n",
              "2                      False           BLUE   \n",
              "3                      False            RED   \n",
              "4                      False            NaN   \n",
              "\n",
              "                               Violation Description  Violation Points  \\\n",
              "0  1300 - Food contact surfaces cleaned and sanit...                15   \n",
              "1  2120 - Proper cold holding temperatures ( 42 d...                 5   \n",
              "2  3200 - Insects, rodents, animals not present; ...                 5   \n",
              "3  0200 - Food Worker Cards current for all food ...                 5   \n",
              "4                                                NaN                 0   \n",
              "\n",
              "  Business_ID Inspection_Serial_Num Violation_Record_ID  Grade  \n",
              "0   PR0089260             DAJ5DTHLV           IVBTPZO0B    1.0  \n",
              "1   PR0089260             DAJ5DTHLV           IV5GOME67    1.0  \n",
              "2   PR0089260             DAEEWQC0L           IVQ7QYW2V    1.0  \n",
              "3   PR0089260             DAEEWQC0L           IV0J437H6    1.0  \n",
              "4   PR0089260             DAWWGK08K                 NaN    1.0  "
            ],
            "text/html": [
              "\n",
              "  <div id=\"df-8e715acc-0b6a-4b5e-8567-7c1ddef5d3b4\">\n",
              "    <div class=\"colab-df-container\">\n",
              "      <div>\n",
              "<style scoped>\n",
              "    .dataframe tbody tr th:only-of-type {\n",
              "        vertical-align: middle;\n",
              "    }\n",
              "\n",
              "    .dataframe tbody tr th {\n",
              "        vertical-align: top;\n",
              "    }\n",
              "\n",
              "    .dataframe thead th {\n",
              "        text-align: right;\n",
              "    }\n",
              "</style>\n",
              "<table border=\"1\" class=\"dataframe\">\n",
              "  <thead>\n",
              "    <tr style=\"text-align: right;\">\n",
              "      <th></th>\n",
              "      <th>Name</th>\n",
              "      <th>Program Identifier</th>\n",
              "      <th>Inspection Date</th>\n",
              "      <th>Description</th>\n",
              "      <th>Zip Code</th>\n",
              "      <th>Inspection Business Name</th>\n",
              "      <th>Inspection Type</th>\n",
              "      <th>Inspection Score</th>\n",
              "      <th>Inspection Result</th>\n",
              "      <th>Inspection Closed Business</th>\n",
              "      <th>Violation Type</th>\n",
              "      <th>Violation Description</th>\n",
              "      <th>Violation Points</th>\n",
              "      <th>Business_ID</th>\n",
              "      <th>Inspection_Serial_Num</th>\n",
              "      <th>Violation_Record_ID</th>\n",
              "      <th>Grade</th>\n",
              "    </tr>\n",
              "  </thead>\n",
              "  <tbody>\n",
              "    <tr>\n",
              "      <th>0</th>\n",
              "      <td>#807 TUTTA BELLA</td>\n",
              "      <td>#807 TUTTA BELLA</td>\n",
              "      <td>03/02/2023</td>\n",
              "      <td>Seating 0-12 - Risk Category III</td>\n",
              "      <td>98105</td>\n",
              "      <td>#807 TUTTA BELLA</td>\n",
              "      <td>Routine Inspection/Field Review</td>\n",
              "      <td>20.0</td>\n",
              "      <td>Unsatisfactory</td>\n",
              "      <td>False</td>\n",
              "      <td>RED</td>\n",
              "      <td>1300 - Food contact surfaces cleaned and sanit...</td>\n",
              "      <td>15</td>\n",
              "      <td>PR0089260</td>\n",
              "      <td>DAJ5DTHLV</td>\n",
              "      <td>IVBTPZO0B</td>\n",
              "      <td>1.0</td>\n",
              "    </tr>\n",
              "    <tr>\n",
              "      <th>1</th>\n",
              "      <td>#807 TUTTA BELLA</td>\n",
              "      <td>#807 TUTTA BELLA</td>\n",
              "      <td>03/02/2023</td>\n",
              "      <td>Seating 0-12 - Risk Category III</td>\n",
              "      <td>98105</td>\n",
              "      <td>#807 TUTTA BELLA</td>\n",
              "      <td>Routine Inspection/Field Review</td>\n",
              "      <td>20.0</td>\n",
              "      <td>Unsatisfactory</td>\n",
              "      <td>False</td>\n",
              "      <td>RED</td>\n",
              "      <td>2120 - Proper cold holding temperatures ( 42 d...</td>\n",
              "      <td>5</td>\n",
              "      <td>PR0089260</td>\n",
              "      <td>DAJ5DTHLV</td>\n",
              "      <td>IV5GOME67</td>\n",
              "      <td>1.0</td>\n",
              "    </tr>\n",
              "    <tr>\n",
              "      <th>2</th>\n",
              "      <td>#807 TUTTA BELLA</td>\n",
              "      <td>#807 TUTTA BELLA</td>\n",
              "      <td>08/31/2022</td>\n",
              "      <td>Seating 0-12 - Risk Category III</td>\n",
              "      <td>98105</td>\n",
              "      <td>#807 TUTTA BELLA</td>\n",
              "      <td>Routine Inspection/Field Review</td>\n",
              "      <td>10.0</td>\n",
              "      <td>Unsatisfactory</td>\n",
              "      <td>False</td>\n",
              "      <td>BLUE</td>\n",
              "      <td>3200 - Insects, rodents, animals not present; ...</td>\n",
              "      <td>5</td>\n",
              "      <td>PR0089260</td>\n",
              "      <td>DAEEWQC0L</td>\n",
              "      <td>IVQ7QYW2V</td>\n",
              "      <td>1.0</td>\n",
              "    </tr>\n",
              "    <tr>\n",
              "      <th>3</th>\n",
              "      <td>#807 TUTTA BELLA</td>\n",
              "      <td>#807 TUTTA BELLA</td>\n",
              "      <td>08/31/2022</td>\n",
              "      <td>Seating 0-12 - Risk Category III</td>\n",
              "      <td>98105</td>\n",
              "      <td>#807 TUTTA BELLA</td>\n",
              "      <td>Routine Inspection/Field Review</td>\n",
              "      <td>10.0</td>\n",
              "      <td>Unsatisfactory</td>\n",
              "      <td>False</td>\n",
              "      <td>RED</td>\n",
              "      <td>0200 - Food Worker Cards current for all food ...</td>\n",
              "      <td>5</td>\n",
              "      <td>PR0089260</td>\n",
              "      <td>DAEEWQC0L</td>\n",
              "      <td>IV0J437H6</td>\n",
              "      <td>1.0</td>\n",
              "    </tr>\n",
              "    <tr>\n",
              "      <th>4</th>\n",
              "      <td>#807 TUTTA BELLA</td>\n",
              "      <td>#807 TUTTA BELLA</td>\n",
              "      <td>01/13/2022</td>\n",
              "      <td>Seating 0-12 - Risk Category III</td>\n",
              "      <td>98105</td>\n",
              "      <td>#807 TUTTA BELLA</td>\n",
              "      <td>Routine Inspection/Field Review</td>\n",
              "      <td>0.0</td>\n",
              "      <td>Satisfactory</td>\n",
              "      <td>False</td>\n",
              "      <td>NaN</td>\n",
              "      <td>NaN</td>\n",
              "      <td>0</td>\n",
              "      <td>PR0089260</td>\n",
              "      <td>DAWWGK08K</td>\n",
              "      <td>NaN</td>\n",
              "      <td>1.0</td>\n",
              "    </tr>\n",
              "  </tbody>\n",
              "</table>\n",
              "</div>\n",
              "      <button class=\"colab-df-convert\" onclick=\"convertToInteractive('df-8e715acc-0b6a-4b5e-8567-7c1ddef5d3b4')\"\n",
              "              title=\"Convert this dataframe to an interactive table.\"\n",
              "              style=\"display:none;\">\n",
              "        \n",
              "  <svg xmlns=\"http://www.w3.org/2000/svg\" height=\"24px\"viewBox=\"0 0 24 24\"\n",
              "       width=\"24px\">\n",
              "    <path d=\"M0 0h24v24H0V0z\" fill=\"none\"/>\n",
              "    <path d=\"M18.56 5.44l.94 2.06.94-2.06 2.06-.94-2.06-.94-.94-2.06-.94 2.06-2.06.94zm-11 1L8.5 8.5l.94-2.06 2.06-.94-2.06-.94L8.5 2.5l-.94 2.06-2.06.94zm10 10l.94 2.06.94-2.06 2.06-.94-2.06-.94-.94-2.06-.94 2.06-2.06.94z\"/><path d=\"M17.41 7.96l-1.37-1.37c-.4-.4-.92-.59-1.43-.59-.52 0-1.04.2-1.43.59L10.3 9.45l-7.72 7.72c-.78.78-.78 2.05 0 2.83L4 21.41c.39.39.9.59 1.41.59.51 0 1.02-.2 1.41-.59l7.78-7.78 2.81-2.81c.8-.78.8-2.07 0-2.86zM5.41 20L4 18.59l7.72-7.72 1.47 1.35L5.41 20z\"/>\n",
              "  </svg>\n",
              "      </button>\n",
              "      \n",
              "  <style>\n",
              "    .colab-df-container {\n",
              "      display:flex;\n",
              "      flex-wrap:wrap;\n",
              "      gap: 12px;\n",
              "    }\n",
              "\n",
              "    .colab-df-convert {\n",
              "      background-color: #E8F0FE;\n",
              "      border: none;\n",
              "      border-radius: 50%;\n",
              "      cursor: pointer;\n",
              "      display: none;\n",
              "      fill: #1967D2;\n",
              "      height: 32px;\n",
              "      padding: 0 0 0 0;\n",
              "      width: 32px;\n",
              "    }\n",
              "\n",
              "    .colab-df-convert:hover {\n",
              "      background-color: #E2EBFA;\n",
              "      box-shadow: 0px 1px 2px rgba(60, 64, 67, 0.3), 0px 1px 3px 1px rgba(60, 64, 67, 0.15);\n",
              "      fill: #174EA6;\n",
              "    }\n",
              "\n",
              "    [theme=dark] .colab-df-convert {\n",
              "      background-color: #3B4455;\n",
              "      fill: #D2E3FC;\n",
              "    }\n",
              "\n",
              "    [theme=dark] .colab-df-convert:hover {\n",
              "      background-color: #434B5C;\n",
              "      box-shadow: 0px 1px 3px 1px rgba(0, 0, 0, 0.15);\n",
              "      filter: drop-shadow(0px 1px 2px rgba(0, 0, 0, 0.3));\n",
              "      fill: #FFFFFF;\n",
              "    }\n",
              "  </style>\n",
              "\n",
              "      <script>\n",
              "        const buttonEl =\n",
              "          document.querySelector('#df-8e715acc-0b6a-4b5e-8567-7c1ddef5d3b4 button.colab-df-convert');\n",
              "        buttonEl.style.display =\n",
              "          google.colab.kernel.accessAllowed ? 'block' : 'none';\n",
              "\n",
              "        async function convertToInteractive(key) {\n",
              "          const element = document.querySelector('#df-8e715acc-0b6a-4b5e-8567-7c1ddef5d3b4');\n",
              "          const dataTable =\n",
              "            await google.colab.kernel.invokeFunction('convertToInteractive',\n",
              "                                                     [key], {});\n",
              "          if (!dataTable) return;\n",
              "\n",
              "          const docLinkHtml = 'Like what you see? Visit the ' +\n",
              "            '<a target=\"_blank\" href=https://colab.research.google.com/notebooks/data_table.ipynb>data table notebook</a>'\n",
              "            + ' to learn more about interactive tables.';\n",
              "          element.innerHTML = '';\n",
              "          dataTable['output_type'] = 'display_data';\n",
              "          await google.colab.output.renderOutput(dataTable, element);\n",
              "          const docLink = document.createElement('div');\n",
              "          docLink.innerHTML = docLinkHtml;\n",
              "          element.appendChild(docLink);\n",
              "        }\n",
              "      </script>\n",
              "    </div>\n",
              "  </div>\n",
              "  "
            ]
          },
          "metadata": {},
          "execution_count": 14
        }
      ]
    },
    {
      "cell_type": "markdown",
      "source": [
        "### Deleted duplicate rows.\n"
      ],
      "metadata": {
        "id": "eeVeiJUy6Yps"
      }
    },
    {
      "cell_type": "code",
      "source": [
        "df.duplicated().sum()"
      ],
      "metadata": {
        "colab": {
          "base_uri": "https://localhost:8080/"
        },
        "id": "8NJvBnjN7lHy",
        "outputId": "e7e3fcde-59aa-47ff-feb6-f6e9fe3d46d2"
      },
      "execution_count": 15,
      "outputs": [
        {
          "output_type": "execute_result",
          "data": {
            "text/plain": [
              "0"
            ]
          },
          "metadata": {},
          "execution_count": 15
        }
      ]
    },
    {
      "cell_type": "markdown",
      "source": [
        "* no duplicate rows"
      ],
      "metadata": {
        "id": "EH25O4GA6bCu"
      }
    },
    {
      "cell_type": "code",
      "source": [],
      "metadata": {
        "id": "Qrn-z5Vq6X0-"
      },
      "execution_count": 15,
      "outputs": []
    },
    {
      "cell_type": "markdown",
      "source": [
        "### Identified and addressed missing values.\n"
      ],
      "metadata": {
        "id": "pK0KxN5q6Ypt"
      }
    },
    {
      "cell_type": "code",
      "source": [
        "df.isna().sum()"
      ],
      "metadata": {
        "colab": {
          "base_uri": "https://localhost:8080/"
        },
        "id": "1OSukOgb7uXr",
        "outputId": "837b112a-0819-4341-a6ef-3ee28d76d816"
      },
      "execution_count": 16,
      "outputs": [
        {
          "output_type": "execute_result",
          "data": {
            "text/plain": [
              "Name                               0\n",
              "Program Identifier                 0\n",
              "Inspection Date                  568\n",
              "Description                        0\n",
              "Zip Code                           0\n",
              "Inspection Business Name         568\n",
              "Inspection Type                  568\n",
              "Inspection Score                 608\n",
              "Inspection Result                568\n",
              "Inspection Closed Business       568\n",
              "Violation Type                113063\n",
              "Violation Description         113063\n",
              "Violation Points                   0\n",
              "Business_ID                        0\n",
              "Inspection_Serial_Num            568\n",
              "Violation_Record_ID           113063\n",
              "Grade                          61447\n",
              "dtype: int64"
            ]
          },
          "metadata": {},
          "execution_count": 16
        }
      ]
    },
    {
      "cell_type": "code",
      "source": [
        "df.isna().sum() / len(df) * 100"
      ],
      "metadata": {
        "colab": {
          "base_uri": "https://localhost:8080/"
        },
        "id": "UWF5Hdz573B1",
        "outputId": "2a5555b6-8b7a-404f-96e3-08ae1e183625"
      },
      "execution_count": 17,
      "outputs": [
        {
          "output_type": "execute_result",
          "data": {
            "text/plain": [
              "Name                           0.000000\n",
              "Program Identifier             0.000000\n",
              "Inspection Date                0.222411\n",
              "Description                    0.000000\n",
              "Zip Code                       0.000000\n",
              "Inspection Business Name       0.222411\n",
              "Inspection Type                0.222411\n",
              "Inspection Score               0.238074\n",
              "Inspection Result              0.222411\n",
              "Inspection Closed Business     0.222411\n",
              "Violation Type                44.271937\n",
              "Violation Description         44.271937\n",
              "Violation Points               0.000000\n",
              "Business_ID                    0.000000\n",
              "Inspection_Serial_Num          0.222411\n",
              "Violation_Record_ID           44.271937\n",
              "Grade                         24.060724\n",
              "dtype: float64"
            ]
          },
          "metadata": {},
          "execution_count": 17
        }
      ]
    },
    {
      "cell_type": "markdown",
      "source": [
        "* Will explore the features that have the exact same amount of missing data, 2 sets of features to explore\n",
        " * Inspection Date, Inspection Business Name, Inspection Type, Inspection Result, Inspection Closed Business, Inspection_Serial_Num           \n",
        " * Violation Type, Violation Description, Violation_Record_ID"
      ],
      "metadata": {
        "id": "87A_7tQY7df9"
      }
    },
    {
      "cell_type": "code",
      "source": [
        "pd.set_option('display.max_rows', None)\n",
        "df['Inspection Type'].value_counts(dropna=False)"
      ],
      "metadata": {
        "colab": {
          "base_uri": "https://localhost:8080/"
        },
        "id": "35pFyaSj8p2C",
        "outputId": "7491e514-897d-4d76-be71-932361ef3a5a"
      },
      "execution_count": 30,
      "outputs": [
        {
          "output_type": "execute_result",
          "data": {
            "text/plain": [
              "Routine Inspection/Field Review    209330\n",
              "Consultation/Education - Field      38728\n",
              "Return Inspection                    6757\n",
              "NaN                                   568\n",
              "Name: Inspection Type, dtype: int64"
            ]
          },
          "metadata": {},
          "execution_count": 30
        }
      ]
    },
    {
      "cell_type": "code",
      "source": [
        "df_null = df.loc[df['Inspection Type'].isnull()]\n",
        "df_null.head()"
      ],
      "metadata": {
        "colab": {
          "base_uri": "https://localhost:8080/",
          "height": 478
        },
        "id": "4xotM2If-r4f",
        "outputId": "9e1e6a81-dd8c-4b25-ed9d-08de30bd1979"
      },
      "execution_count": 32,
      "outputs": [
        {
          "output_type": "execute_result",
          "data": {
            "text/plain": [
              "                            Name          Program Identifier Inspection Date  \\\n",
              "974             7-ELEVEN #18553E            7-ELEVEN #18553E             NaN   \n",
              "1558      7-ELEVEN STORE #17922K      7-ELEVEN STORE #17922K             NaN   \n",
              "3240                76 FOOD MART                76 FOOD MART             NaN   \n",
              "3531                     88 CUES                     88 CUES             NaN   \n",
              "3532  88 CUES- FILIPINO CLASSICS  88 CUES- FILIPINO CLASSICS             NaN   \n",
              "\n",
              "                           Description Zip Code Inspection Business Name  \\\n",
              "974   Seating 0-12 - Risk Category III    98103                      NaN   \n",
              "1558  Seating 0-12 - Risk Category III    98007                      NaN   \n",
              "3240  Seating 0-12 - Risk Category III    98010                      NaN   \n",
              "3531  Seating 0-12 - Risk Category III    98109                      NaN   \n",
              "3532       Caterer - Risk Category III    98133                      NaN   \n",
              "\n",
              "     Inspection Type  Inspection Score Inspection Result  \\\n",
              "974              NaN               NaN               NaN   \n",
              "1558             NaN               NaN               NaN   \n",
              "3240             NaN               NaN               NaN   \n",
              "3531             NaN               NaN               NaN   \n",
              "3532             NaN               NaN               NaN   \n",
              "\n",
              "     Inspection Closed Business Violation Type Violation Description  \\\n",
              "974                         NaN            NaN                   NaN   \n",
              "1558                        NaN            NaN                   NaN   \n",
              "3240                        NaN            NaN                   NaN   \n",
              "3531                        NaN            NaN                   NaN   \n",
              "3532                        NaN            NaN                   NaN   \n",
              "\n",
              "      Violation Points Business_ID Inspection_Serial_Num Violation_Record_ID  \\\n",
              "974                  0   PR0001037                   NaN                 NaN   \n",
              "1558                 0   PR0006020                   NaN                 NaN   \n",
              "3240                 0   PR0069805                   NaN                 NaN   \n",
              "3531                 0   PR0090946                   NaN                 NaN   \n",
              "3532                 0   PR0090796                   NaN                 NaN   \n",
              "\n",
              "      Grade  \n",
              "974     NaN  \n",
              "1558    NaN  \n",
              "3240    NaN  \n",
              "3531    NaN  \n",
              "3532    NaN  "
            ],
            "text/html": [
              "\n",
              "  <div id=\"df-19308434-9c7a-4d6d-83d5-62432f896910\">\n",
              "    <div class=\"colab-df-container\">\n",
              "      <div>\n",
              "<style scoped>\n",
              "    .dataframe tbody tr th:only-of-type {\n",
              "        vertical-align: middle;\n",
              "    }\n",
              "\n",
              "    .dataframe tbody tr th {\n",
              "        vertical-align: top;\n",
              "    }\n",
              "\n",
              "    .dataframe thead th {\n",
              "        text-align: right;\n",
              "    }\n",
              "</style>\n",
              "<table border=\"1\" class=\"dataframe\">\n",
              "  <thead>\n",
              "    <tr style=\"text-align: right;\">\n",
              "      <th></th>\n",
              "      <th>Name</th>\n",
              "      <th>Program Identifier</th>\n",
              "      <th>Inspection Date</th>\n",
              "      <th>Description</th>\n",
              "      <th>Zip Code</th>\n",
              "      <th>Inspection Business Name</th>\n",
              "      <th>Inspection Type</th>\n",
              "      <th>Inspection Score</th>\n",
              "      <th>Inspection Result</th>\n",
              "      <th>Inspection Closed Business</th>\n",
              "      <th>Violation Type</th>\n",
              "      <th>Violation Description</th>\n",
              "      <th>Violation Points</th>\n",
              "      <th>Business_ID</th>\n",
              "      <th>Inspection_Serial_Num</th>\n",
              "      <th>Violation_Record_ID</th>\n",
              "      <th>Grade</th>\n",
              "    </tr>\n",
              "  </thead>\n",
              "  <tbody>\n",
              "    <tr>\n",
              "      <th>974</th>\n",
              "      <td>7-ELEVEN #18553E</td>\n",
              "      <td>7-ELEVEN #18553E</td>\n",
              "      <td>NaN</td>\n",
              "      <td>Seating 0-12 - Risk Category III</td>\n",
              "      <td>98103</td>\n",
              "      <td>NaN</td>\n",
              "      <td>NaN</td>\n",
              "      <td>NaN</td>\n",
              "      <td>NaN</td>\n",
              "      <td>NaN</td>\n",
              "      <td>NaN</td>\n",
              "      <td>NaN</td>\n",
              "      <td>0</td>\n",
              "      <td>PR0001037</td>\n",
              "      <td>NaN</td>\n",
              "      <td>NaN</td>\n",
              "      <td>NaN</td>\n",
              "    </tr>\n",
              "    <tr>\n",
              "      <th>1558</th>\n",
              "      <td>7-ELEVEN STORE #17922K</td>\n",
              "      <td>7-ELEVEN STORE #17922K</td>\n",
              "      <td>NaN</td>\n",
              "      <td>Seating 0-12 - Risk Category III</td>\n",
              "      <td>98007</td>\n",
              "      <td>NaN</td>\n",
              "      <td>NaN</td>\n",
              "      <td>NaN</td>\n",
              "      <td>NaN</td>\n",
              "      <td>NaN</td>\n",
              "      <td>NaN</td>\n",
              "      <td>NaN</td>\n",
              "      <td>0</td>\n",
              "      <td>PR0006020</td>\n",
              "      <td>NaN</td>\n",
              "      <td>NaN</td>\n",
              "      <td>NaN</td>\n",
              "    </tr>\n",
              "    <tr>\n",
              "      <th>3240</th>\n",
              "      <td>76 FOOD MART</td>\n",
              "      <td>76 FOOD MART</td>\n",
              "      <td>NaN</td>\n",
              "      <td>Seating 0-12 - Risk Category III</td>\n",
              "      <td>98010</td>\n",
              "      <td>NaN</td>\n",
              "      <td>NaN</td>\n",
              "      <td>NaN</td>\n",
              "      <td>NaN</td>\n",
              "      <td>NaN</td>\n",
              "      <td>NaN</td>\n",
              "      <td>NaN</td>\n",
              "      <td>0</td>\n",
              "      <td>PR0069805</td>\n",
              "      <td>NaN</td>\n",
              "      <td>NaN</td>\n",
              "      <td>NaN</td>\n",
              "    </tr>\n",
              "    <tr>\n",
              "      <th>3531</th>\n",
              "      <td>88 CUES</td>\n",
              "      <td>88 CUES</td>\n",
              "      <td>NaN</td>\n",
              "      <td>Seating 0-12 - Risk Category III</td>\n",
              "      <td>98109</td>\n",
              "      <td>NaN</td>\n",
              "      <td>NaN</td>\n",
              "      <td>NaN</td>\n",
              "      <td>NaN</td>\n",
              "      <td>NaN</td>\n",
              "      <td>NaN</td>\n",
              "      <td>NaN</td>\n",
              "      <td>0</td>\n",
              "      <td>PR0090946</td>\n",
              "      <td>NaN</td>\n",
              "      <td>NaN</td>\n",
              "      <td>NaN</td>\n",
              "    </tr>\n",
              "    <tr>\n",
              "      <th>3532</th>\n",
              "      <td>88 CUES- FILIPINO CLASSICS</td>\n",
              "      <td>88 CUES- FILIPINO CLASSICS</td>\n",
              "      <td>NaN</td>\n",
              "      <td>Caterer - Risk Category III</td>\n",
              "      <td>98133</td>\n",
              "      <td>NaN</td>\n",
              "      <td>NaN</td>\n",
              "      <td>NaN</td>\n",
              "      <td>NaN</td>\n",
              "      <td>NaN</td>\n",
              "      <td>NaN</td>\n",
              "      <td>NaN</td>\n",
              "      <td>0</td>\n",
              "      <td>PR0090796</td>\n",
              "      <td>NaN</td>\n",
              "      <td>NaN</td>\n",
              "      <td>NaN</td>\n",
              "    </tr>\n",
              "  </tbody>\n",
              "</table>\n",
              "</div>\n",
              "      <button class=\"colab-df-convert\" onclick=\"convertToInteractive('df-19308434-9c7a-4d6d-83d5-62432f896910')\"\n",
              "              title=\"Convert this dataframe to an interactive table.\"\n",
              "              style=\"display:none;\">\n",
              "        \n",
              "  <svg xmlns=\"http://www.w3.org/2000/svg\" height=\"24px\"viewBox=\"0 0 24 24\"\n",
              "       width=\"24px\">\n",
              "    <path d=\"M0 0h24v24H0V0z\" fill=\"none\"/>\n",
              "    <path d=\"M18.56 5.44l.94 2.06.94-2.06 2.06-.94-2.06-.94-.94-2.06-.94 2.06-2.06.94zm-11 1L8.5 8.5l.94-2.06 2.06-.94-2.06-.94L8.5 2.5l-.94 2.06-2.06.94zm10 10l.94 2.06.94-2.06 2.06-.94-2.06-.94-.94-2.06-.94 2.06-2.06.94z\"/><path d=\"M17.41 7.96l-1.37-1.37c-.4-.4-.92-.59-1.43-.59-.52 0-1.04.2-1.43.59L10.3 9.45l-7.72 7.72c-.78.78-.78 2.05 0 2.83L4 21.41c.39.39.9.59 1.41.59.51 0 1.02-.2 1.41-.59l7.78-7.78 2.81-2.81c.8-.78.8-2.07 0-2.86zM5.41 20L4 18.59l7.72-7.72 1.47 1.35L5.41 20z\"/>\n",
              "  </svg>\n",
              "      </button>\n",
              "      \n",
              "  <style>\n",
              "    .colab-df-container {\n",
              "      display:flex;\n",
              "      flex-wrap:wrap;\n",
              "      gap: 12px;\n",
              "    }\n",
              "\n",
              "    .colab-df-convert {\n",
              "      background-color: #E8F0FE;\n",
              "      border: none;\n",
              "      border-radius: 50%;\n",
              "      cursor: pointer;\n",
              "      display: none;\n",
              "      fill: #1967D2;\n",
              "      height: 32px;\n",
              "      padding: 0 0 0 0;\n",
              "      width: 32px;\n",
              "    }\n",
              "\n",
              "    .colab-df-convert:hover {\n",
              "      background-color: #E2EBFA;\n",
              "      box-shadow: 0px 1px 2px rgba(60, 64, 67, 0.3), 0px 1px 3px 1px rgba(60, 64, 67, 0.15);\n",
              "      fill: #174EA6;\n",
              "    }\n",
              "\n",
              "    [theme=dark] .colab-df-convert {\n",
              "      background-color: #3B4455;\n",
              "      fill: #D2E3FC;\n",
              "    }\n",
              "\n",
              "    [theme=dark] .colab-df-convert:hover {\n",
              "      background-color: #434B5C;\n",
              "      box-shadow: 0px 1px 3px 1px rgba(0, 0, 0, 0.15);\n",
              "      filter: drop-shadow(0px 1px 2px rgba(0, 0, 0, 0.3));\n",
              "      fill: #FFFFFF;\n",
              "    }\n",
              "  </style>\n",
              "\n",
              "      <script>\n",
              "        const buttonEl =\n",
              "          document.querySelector('#df-19308434-9c7a-4d6d-83d5-62432f896910 button.colab-df-convert');\n",
              "        buttonEl.style.display =\n",
              "          google.colab.kernel.accessAllowed ? 'block' : 'none';\n",
              "\n",
              "        async function convertToInteractive(key) {\n",
              "          const element = document.querySelector('#df-19308434-9c7a-4d6d-83d5-62432f896910');\n",
              "          const dataTable =\n",
              "            await google.colab.kernel.invokeFunction('convertToInteractive',\n",
              "                                                     [key], {});\n",
              "          if (!dataTable) return;\n",
              "\n",
              "          const docLinkHtml = 'Like what you see? Visit the ' +\n",
              "            '<a target=\"_blank\" href=https://colab.research.google.com/notebooks/data_table.ipynb>data table notebook</a>'\n",
              "            + ' to learn more about interactive tables.';\n",
              "          element.innerHTML = '';\n",
              "          dataTable['output_type'] = 'display_data';\n",
              "          await google.colab.output.renderOutput(dataTable, element);\n",
              "          const docLink = document.createElement('div');\n",
              "          docLink.innerHTML = docLinkHtml;\n",
              "          element.appendChild(docLink);\n",
              "        }\n",
              "      </script>\n",
              "    </div>\n",
              "  </div>\n",
              "  "
            ]
          },
          "metadata": {},
          "execution_count": 32
        }
      ]
    },
    {
      "cell_type": "code",
      "source": [
        "df_null.tail()"
      ],
      "metadata": {
        "colab": {
          "base_uri": "https://localhost:8080/",
          "height": 582
        },
        "id": "TP9_SFm9-_oK",
        "outputId": "adbdaa9d-cb3a-4ee7-e1d3-e49058d3055e"
      },
      "execution_count": 33,
      "outputs": [
        {
          "output_type": "execute_result",
          "data": {
            "text/plain": [
              "                          Name  \\\n",
              "252508                 WOODY'S   \n",
              "252514  WORLD EXPRESS  (KC349)   \n",
              "252833                YAKIMONO   \n",
              "253021                  YAYGIT   \n",
              "253152              YETI HOUSE   \n",
              "\n",
              "                                       Program Identifier Inspection Date  \\\n",
              "252508                                            WOODY'S             NaN   \n",
              "252514  WORLD EXPRESS  (KC349) @ 13610 AMBAUM BLVD SW ...             NaN   \n",
              "252833                     YAKIMONO @ ROUTE  425 728 0706             NaN   \n",
              "253021                                             YAYGIT             NaN   \n",
              "253152                       YETI HOUSE @ U District Eats             NaN   \n",
              "\n",
              "                                 Description Zip Code  \\\n",
              "252508     Seating 13-50 - Risk Category III    98133   \n",
              "252514  Mobile Food Unit - Risk Category III    98001   \n",
              "252833  Mobile Food Unit - Risk Category III    98168   \n",
              "253021      Seating 13-50 - Risk Category II    98107   \n",
              "253152      Seating 0-12 - Risk Category III    98105   \n",
              "\n",
              "       Inspection Business Name Inspection Type  Inspection Score  \\\n",
              "252508                      NaN             NaN               NaN   \n",
              "252514                      NaN             NaN               NaN   \n",
              "252833                      NaN             NaN               NaN   \n",
              "253021                      NaN             NaN               NaN   \n",
              "253152                      NaN             NaN               NaN   \n",
              "\n",
              "       Inspection Result Inspection Closed Business Violation Type  \\\n",
              "252508               NaN                        NaN            NaN   \n",
              "252514               NaN                        NaN            NaN   \n",
              "252833               NaN                        NaN            NaN   \n",
              "253021               NaN                        NaN            NaN   \n",
              "253152               NaN                        NaN            NaN   \n",
              "\n",
              "       Violation Description  Violation Points Business_ID  \\\n",
              "252508                   NaN                 0   PR0001506   \n",
              "252514                   NaN                 0   PR0085351   \n",
              "252833                   NaN                 0   PR0090441   \n",
              "253021                   NaN                 0   PR0090934   \n",
              "253152                   NaN                 0   PR0091020   \n",
              "\n",
              "       Inspection_Serial_Num Violation_Record_ID  Grade  \n",
              "252508                   NaN                 NaN    NaN  \n",
              "252514                   NaN                 NaN    NaN  \n",
              "252833                   NaN                 NaN    NaN  \n",
              "253021                   NaN                 NaN    NaN  \n",
              "253152                   NaN                 NaN    NaN  "
            ],
            "text/html": [
              "\n",
              "  <div id=\"df-e4bc716f-353c-4d3f-b863-c284188f82c8\">\n",
              "    <div class=\"colab-df-container\">\n",
              "      <div>\n",
              "<style scoped>\n",
              "    .dataframe tbody tr th:only-of-type {\n",
              "        vertical-align: middle;\n",
              "    }\n",
              "\n",
              "    .dataframe tbody tr th {\n",
              "        vertical-align: top;\n",
              "    }\n",
              "\n",
              "    .dataframe thead th {\n",
              "        text-align: right;\n",
              "    }\n",
              "</style>\n",
              "<table border=\"1\" class=\"dataframe\">\n",
              "  <thead>\n",
              "    <tr style=\"text-align: right;\">\n",
              "      <th></th>\n",
              "      <th>Name</th>\n",
              "      <th>Program Identifier</th>\n",
              "      <th>Inspection Date</th>\n",
              "      <th>Description</th>\n",
              "      <th>Zip Code</th>\n",
              "      <th>Inspection Business Name</th>\n",
              "      <th>Inspection Type</th>\n",
              "      <th>Inspection Score</th>\n",
              "      <th>Inspection Result</th>\n",
              "      <th>Inspection Closed Business</th>\n",
              "      <th>Violation Type</th>\n",
              "      <th>Violation Description</th>\n",
              "      <th>Violation Points</th>\n",
              "      <th>Business_ID</th>\n",
              "      <th>Inspection_Serial_Num</th>\n",
              "      <th>Violation_Record_ID</th>\n",
              "      <th>Grade</th>\n",
              "    </tr>\n",
              "  </thead>\n",
              "  <tbody>\n",
              "    <tr>\n",
              "      <th>252508</th>\n",
              "      <td>WOODY'S</td>\n",
              "      <td>WOODY'S</td>\n",
              "      <td>NaN</td>\n",
              "      <td>Seating 13-50 - Risk Category III</td>\n",
              "      <td>98133</td>\n",
              "      <td>NaN</td>\n",
              "      <td>NaN</td>\n",
              "      <td>NaN</td>\n",
              "      <td>NaN</td>\n",
              "      <td>NaN</td>\n",
              "      <td>NaN</td>\n",
              "      <td>NaN</td>\n",
              "      <td>0</td>\n",
              "      <td>PR0001506</td>\n",
              "      <td>NaN</td>\n",
              "      <td>NaN</td>\n",
              "      <td>NaN</td>\n",
              "    </tr>\n",
              "    <tr>\n",
              "      <th>252514</th>\n",
              "      <td>WORLD EXPRESS  (KC349)</td>\n",
              "      <td>WORLD EXPRESS  (KC349) @ 13610 AMBAUM BLVD SW ...</td>\n",
              "      <td>NaN</td>\n",
              "      <td>Mobile Food Unit - Risk Category III</td>\n",
              "      <td>98001</td>\n",
              "      <td>NaN</td>\n",
              "      <td>NaN</td>\n",
              "      <td>NaN</td>\n",
              "      <td>NaN</td>\n",
              "      <td>NaN</td>\n",
              "      <td>NaN</td>\n",
              "      <td>NaN</td>\n",
              "      <td>0</td>\n",
              "      <td>PR0085351</td>\n",
              "      <td>NaN</td>\n",
              "      <td>NaN</td>\n",
              "      <td>NaN</td>\n",
              "    </tr>\n",
              "    <tr>\n",
              "      <th>252833</th>\n",
              "      <td>YAKIMONO</td>\n",
              "      <td>YAKIMONO @ ROUTE  425 728 0706</td>\n",
              "      <td>NaN</td>\n",
              "      <td>Mobile Food Unit - Risk Category III</td>\n",
              "      <td>98168</td>\n",
              "      <td>NaN</td>\n",
              "      <td>NaN</td>\n",
              "      <td>NaN</td>\n",
              "      <td>NaN</td>\n",
              "      <td>NaN</td>\n",
              "      <td>NaN</td>\n",
              "      <td>NaN</td>\n",
              "      <td>0</td>\n",
              "      <td>PR0090441</td>\n",
              "      <td>NaN</td>\n",
              "      <td>NaN</td>\n",
              "      <td>NaN</td>\n",
              "    </tr>\n",
              "    <tr>\n",
              "      <th>253021</th>\n",
              "      <td>YAYGIT</td>\n",
              "      <td>YAYGIT</td>\n",
              "      <td>NaN</td>\n",
              "      <td>Seating 13-50 - Risk Category II</td>\n",
              "      <td>98107</td>\n",
              "      <td>NaN</td>\n",
              "      <td>NaN</td>\n",
              "      <td>NaN</td>\n",
              "      <td>NaN</td>\n",
              "      <td>NaN</td>\n",
              "      <td>NaN</td>\n",
              "      <td>NaN</td>\n",
              "      <td>0</td>\n",
              "      <td>PR0090934</td>\n",
              "      <td>NaN</td>\n",
              "      <td>NaN</td>\n",
              "      <td>NaN</td>\n",
              "    </tr>\n",
              "    <tr>\n",
              "      <th>253152</th>\n",
              "      <td>YETI HOUSE</td>\n",
              "      <td>YETI HOUSE @ U District Eats</td>\n",
              "      <td>NaN</td>\n",
              "      <td>Seating 0-12 - Risk Category III</td>\n",
              "      <td>98105</td>\n",
              "      <td>NaN</td>\n",
              "      <td>NaN</td>\n",
              "      <td>NaN</td>\n",
              "      <td>NaN</td>\n",
              "      <td>NaN</td>\n",
              "      <td>NaN</td>\n",
              "      <td>NaN</td>\n",
              "      <td>0</td>\n",
              "      <td>PR0091020</td>\n",
              "      <td>NaN</td>\n",
              "      <td>NaN</td>\n",
              "      <td>NaN</td>\n",
              "    </tr>\n",
              "  </tbody>\n",
              "</table>\n",
              "</div>\n",
              "      <button class=\"colab-df-convert\" onclick=\"convertToInteractive('df-e4bc716f-353c-4d3f-b863-c284188f82c8')\"\n",
              "              title=\"Convert this dataframe to an interactive table.\"\n",
              "              style=\"display:none;\">\n",
              "        \n",
              "  <svg xmlns=\"http://www.w3.org/2000/svg\" height=\"24px\"viewBox=\"0 0 24 24\"\n",
              "       width=\"24px\">\n",
              "    <path d=\"M0 0h24v24H0V0z\" fill=\"none\"/>\n",
              "    <path d=\"M18.56 5.44l.94 2.06.94-2.06 2.06-.94-2.06-.94-.94-2.06-.94 2.06-2.06.94zm-11 1L8.5 8.5l.94-2.06 2.06-.94-2.06-.94L8.5 2.5l-.94 2.06-2.06.94zm10 10l.94 2.06.94-2.06 2.06-.94-2.06-.94-.94-2.06-.94 2.06-2.06.94z\"/><path d=\"M17.41 7.96l-1.37-1.37c-.4-.4-.92-.59-1.43-.59-.52 0-1.04.2-1.43.59L10.3 9.45l-7.72 7.72c-.78.78-.78 2.05 0 2.83L4 21.41c.39.39.9.59 1.41.59.51 0 1.02-.2 1.41-.59l7.78-7.78 2.81-2.81c.8-.78.8-2.07 0-2.86zM5.41 20L4 18.59l7.72-7.72 1.47 1.35L5.41 20z\"/>\n",
              "  </svg>\n",
              "      </button>\n",
              "      \n",
              "  <style>\n",
              "    .colab-df-container {\n",
              "      display:flex;\n",
              "      flex-wrap:wrap;\n",
              "      gap: 12px;\n",
              "    }\n",
              "\n",
              "    .colab-df-convert {\n",
              "      background-color: #E8F0FE;\n",
              "      border: none;\n",
              "      border-radius: 50%;\n",
              "      cursor: pointer;\n",
              "      display: none;\n",
              "      fill: #1967D2;\n",
              "      height: 32px;\n",
              "      padding: 0 0 0 0;\n",
              "      width: 32px;\n",
              "    }\n",
              "\n",
              "    .colab-df-convert:hover {\n",
              "      background-color: #E2EBFA;\n",
              "      box-shadow: 0px 1px 2px rgba(60, 64, 67, 0.3), 0px 1px 3px 1px rgba(60, 64, 67, 0.15);\n",
              "      fill: #174EA6;\n",
              "    }\n",
              "\n",
              "    [theme=dark] .colab-df-convert {\n",
              "      background-color: #3B4455;\n",
              "      fill: #D2E3FC;\n",
              "    }\n",
              "\n",
              "    [theme=dark] .colab-df-convert:hover {\n",
              "      background-color: #434B5C;\n",
              "      box-shadow: 0px 1px 3px 1px rgba(0, 0, 0, 0.15);\n",
              "      filter: drop-shadow(0px 1px 2px rgba(0, 0, 0, 0.3));\n",
              "      fill: #FFFFFF;\n",
              "    }\n",
              "  </style>\n",
              "\n",
              "      <script>\n",
              "        const buttonEl =\n",
              "          document.querySelector('#df-e4bc716f-353c-4d3f-b863-c284188f82c8 button.colab-df-convert');\n",
              "        buttonEl.style.display =\n",
              "          google.colab.kernel.accessAllowed ? 'block' : 'none';\n",
              "\n",
              "        async function convertToInteractive(key) {\n",
              "          const element = document.querySelector('#df-e4bc716f-353c-4d3f-b863-c284188f82c8');\n",
              "          const dataTable =\n",
              "            await google.colab.kernel.invokeFunction('convertToInteractive',\n",
              "                                                     [key], {});\n",
              "          if (!dataTable) return;\n",
              "\n",
              "          const docLinkHtml = 'Like what you see? Visit the ' +\n",
              "            '<a target=\"_blank\" href=https://colab.research.google.com/notebooks/data_table.ipynb>data table notebook</a>'\n",
              "            + ' to learn more about interactive tables.';\n",
              "          element.innerHTML = '';\n",
              "          dataTable['output_type'] = 'display_data';\n",
              "          await google.colab.output.renderOutput(dataTable, element);\n",
              "          const docLink = document.createElement('div');\n",
              "          docLink.innerHTML = docLinkHtml;\n",
              "          element.appendChild(docLink);\n",
              "        }\n",
              "      </script>\n",
              "    </div>\n",
              "  </div>\n",
              "  "
            ]
          },
          "metadata": {},
          "execution_count": 33
        }
      ]
    },
    {
      "cell_type": "markdown",
      "source": [
        "* The rows with NaN in Inspection Date, are also NaN in these other columns.\n",
        "Inspection Business Name, Inspection Type, Inspection Result, Inspection Closed Business, Inspection_Serial_Num\n",
        "\n",
        "*  ** Will drop these rows**"
      ],
      "metadata": {
        "id": "AeWEwtaQ_drU"
      }
    },
    {
      "cell_type": "code",
      "source": [
        "df.dropna(subset=['Inspection Type'], inplace=True)"
      ],
      "metadata": {
        "id": "-357mVUUA6Qj"
      },
      "execution_count": 38,
      "outputs": []
    },
    {
      "cell_type": "code",
      "source": [
        "pd.set_option('display.max_rows', None)\n",
        "df['Inspection Type'].value_counts(dropna=False)"
      ],
      "metadata": {
        "colab": {
          "base_uri": "https://localhost:8080/"
        },
        "id": "Lp3sKIiaBvOc",
        "outputId": "bd4c62f5-d1d4-4bf8-e63e-0b4ee366203a"
      },
      "execution_count": 39,
      "outputs": [
        {
          "output_type": "execute_result",
          "data": {
            "text/plain": [
              "Routine Inspection/Field Review    209330\n",
              "Consultation/Education - Field      38728\n",
              "Return Inspection                    6757\n",
              "Name: Inspection Type, dtype: int64"
            ]
          },
          "metadata": {},
          "execution_count": 39
        }
      ]
    },
    {
      "cell_type": "code",
      "source": [
        "df.isna().sum()"
      ],
      "metadata": {
        "colab": {
          "base_uri": "https://localhost:8080/"
        },
        "id": "Rj-UItbkCIFl",
        "outputId": "90b5032f-e498-4f17-b575-84e7ed9ab817"
      },
      "execution_count": 40,
      "outputs": [
        {
          "output_type": "execute_result",
          "data": {
            "text/plain": [
              "Name                               0\n",
              "Program Identifier                 0\n",
              "Inspection Date                    0\n",
              "Description                        0\n",
              "Zip Code                           0\n",
              "Inspection Business Name           0\n",
              "Inspection Type                    0\n",
              "Inspection Score                  40\n",
              "Inspection Result                  0\n",
              "Inspection Closed Business         0\n",
              "Violation Type                112495\n",
              "Violation Description         112495\n",
              "Violation Points                   0\n",
              "Business_ID                        0\n",
              "Inspection_Serial_Num              0\n",
              "Violation_Record_ID           112495\n",
              "Grade                          60907\n",
              "dtype: int64"
            ]
          },
          "metadata": {},
          "execution_count": 40
        }
      ]
    },
    {
      "cell_type": "code",
      "source": [
        "df.dtypes"
      ],
      "metadata": {
        "colab": {
          "base_uri": "https://localhost:8080/"
        },
        "id": "2bV85aEVDIFP",
        "outputId": "ca008039-2dc4-4ed7-b01e-5718058c9d18"
      },
      "execution_count": 44,
      "outputs": [
        {
          "output_type": "execute_result",
          "data": {
            "text/plain": [
              "Name                           object\n",
              "Program Identifier             object\n",
              "Inspection Date                object\n",
              "Description                    object\n",
              "Zip Code                       object\n",
              "Inspection Business Name       object\n",
              "Inspection Type                object\n",
              "Inspection Score              float64\n",
              "Inspection Result              object\n",
              "Inspection Closed Business     object\n",
              "Violation Type                 object\n",
              "Violation Description          object\n",
              "Violation Points                int64\n",
              "Business_ID                    object\n",
              "Inspection_Serial_Num          object\n",
              "Violation_Record_ID            object\n",
              "Grade                         float64\n",
              "dtype: object"
            ]
          },
          "metadata": {},
          "execution_count": 44
        }
      ]
    },
    {
      "cell_type": "code",
      "source": [
        "data_types = df.dtypes\n",
        "str_cols = data_types[data_types=='object'].index\n",
        "str_cols"
      ],
      "metadata": {
        "colab": {
          "base_uri": "https://localhost:8080/"
        },
        "id": "ax__2AIfDSaz",
        "outputId": "b4e30a72-c258-42b0-f91a-802480f36583"
      },
      "execution_count": 45,
      "outputs": [
        {
          "output_type": "execute_result",
          "data": {
            "text/plain": [
              "Index(['Name', 'Program Identifier', 'Inspection Date', 'Description',\n",
              "       'Zip Code', 'Inspection Business Name', 'Inspection Type',\n",
              "       'Inspection Result', 'Inspection Closed Business', 'Violation Type',\n",
              "       'Violation Description', 'Business_ID', 'Inspection_Serial_Num',\n",
              "       'Violation_Record_ID'],\n",
              "      dtype='object')"
            ]
          },
          "metadata": {},
          "execution_count": 45
        }
      ]
    },
    {
      "cell_type": "markdown",
      "source": [
        "### Inconsistencies in categorical values\n"
      ],
      "metadata": {
        "id": "tSVi1DKe6Ypt"
      }
    },
    {
      "cell_type": "code",
      "source": [
        "df.nunique()"
      ],
      "metadata": {
        "colab": {
          "base_uri": "https://localhost:8080/"
        },
        "id": "VKu4qipTARV5",
        "outputId": "fc2adad1-201a-4f47-83e4-4b8b7b1bedd6"
      },
      "execution_count": 48,
      "outputs": [
        {
          "output_type": "execute_result",
          "data": {
            "text/plain": [
              "Name                            9269\n",
              "Program Identifier             10688\n",
              "Inspection Date                 5135\n",
              "Description                       33\n",
              "Zip Code                         179\n",
              "Inspection Business Name        9269\n",
              "Inspection Type                    3\n",
              "Inspection Score                 141\n",
              "Inspection Result                 18\n",
              "Inspection Closed Business         2\n",
              "Violation Type                     2\n",
              "Violation Description            147\n",
              "Violation Points                   8\n",
              "Business_ID                    11824\n",
              "Inspection_Serial_Num         180373\n",
              "Violation_Record_ID           142320\n",
              "Grade                              4\n",
              "dtype: int64"
            ]
          },
          "metadata": {},
          "execution_count": 48
        }
      ]
    },
    {
      "cell_type": "code",
      "source": [
        "pd.set_option('display.max_rows', None)\n",
        "df['Description'].value_counts()"
      ],
      "metadata": {
        "colab": {
          "base_uri": "https://localhost:8080/"
        },
        "id": "KfV18VuhG2gu",
        "outputId": "585ad0ec-1bd4-487d-ad4b-d0ee38c55198"
      },
      "execution_count": 53,
      "outputs": [
        {
          "output_type": "execute_result",
          "data": {
            "text/plain": [
              "Seating 13-50 - Risk Category III                58573\n",
              "Seating 51-150 - Risk Category III               55894\n",
              "Seating 0-12 - Risk Category III                 40243\n",
              "Meat/Sea Food - Risk Category III                14089\n",
              "School Lunch Program - Risk II                   13571\n",
              "Seating 151-250 - Risk Category III              10263\n",
              "Grocery Store-no seating - Risk Category I        9544\n",
              "Seating 13-50 - Risk Category II                  7218\n",
              "Seating > 250 - Risk Category III                 7186\n",
              "Seating 0-12 - Risk Category II                   7158\n",
              "Non-Profit Institution - Risk Category III        6250\n",
              "Bakery-no seating - Risk Category II              4421\n",
              "Seating 0-12 - Risk Category I                    4282\n",
              "Mobile Food Unit - Risk Category III              4181\n",
              "Grocery Store-no seating - Risk Category II       2519\n",
              "Caterer - Risk Category III                       1842\n",
              "Seating 13-50 - Risk Category I                   1508\n",
              "Limited Food Services - no permanent plumbing     1148\n",
              "Seating 51-150 - Risk Category II                  972\n",
              "Non-Profit Institution - Risk Category I           836\n",
              "Mobile Food Unit - Risk Category I                 681\n",
              "Non-Profit Institution - Risk Category II          650\n",
              "Seating 51-150 - Risk Category I                   647\n",
              "Mobile Food Unit - Risk Category II                472\n",
              "Bakery-no seating - Risk Category III              292\n",
              "Caterer - Risk Category II                          78\n",
              "Seating > 250 - Risk Category I                     72\n",
              "Seating 151-250 - Risk Category I                   68\n",
              "Bed and Breakfast - Risk Category I                 67\n",
              "Caterer - Risk Category I                           47\n",
              "Seating 151-250 - Risk Category II                  24\n",
              "Bakery-no seating - Risk Category I                 15\n",
              "Seating > 250 - Risk Category II                     4\n",
              "Name: Description, dtype: int64"
            ]
          },
          "metadata": {},
          "execution_count": 53
        }
      ]
    },
    {
      "cell_type": "code",
      "source": [
        "pd.set_option('display.max_rows', None)\n",
        "df['Inspection Type'].value_counts()"
      ],
      "metadata": {
        "colab": {
          "base_uri": "https://localhost:8080/"
        },
        "id": "IHcLhEMMI0xk",
        "outputId": "b49e4ff5-1eb5-428c-b392-0ceeb8c0012c"
      },
      "execution_count": 59,
      "outputs": [
        {
          "output_type": "execute_result",
          "data": {
            "text/plain": [
              "Routine Inspection/Field Review    209330\n",
              "Consultation/Education - Field      38728\n",
              "Return Inspection                    6757\n",
              "Name: Inspection Type, dtype: int64"
            ]
          },
          "metadata": {},
          "execution_count": 59
        }
      ]
    },
    {
      "cell_type": "code",
      "source": [
        "pd.set_option('display.max_rows', None)\n",
        "df['Inspection Score'].value_counts()"
      ],
      "metadata": {
        "colab": {
          "base_uri": "https://localhost:8080/"
        },
        "id": "MT8s1b0zI2Ov",
        "outputId": "ccd78110-a672-4618-b70d-1f89b20fe560"
      },
      "execution_count": 60,
      "outputs": [
        {
          "output_type": "execute_result",
          "data": {
            "text/plain": [
              " 0.0      112043\n",
              " 10.0      18597\n",
              " 5.0       17993\n",
              " 15.0      13991\n",
              " 20.0       9629\n",
              " 25.0       8285\n",
              " 30.0       7009\n",
              " 35.0       5417\n",
              " 40.0       4007\n",
              " 13.0       3787\n",
              " 8.0        3762\n",
              " 18.0       3602\n",
              " 45.0       2998\n",
              " 23.0       2639\n",
              " 3.0        2361\n",
              " 28.0       2279\n",
              " 50.0       2082\n",
              " 33.0       2047\n",
              " 38.0       1650\n",
              " 55.0       1630\n",
              " 7.0        1453\n",
              " 12.0       1374\n",
              " 43.0       1371\n",
              " 60.0       1354\n",
              " 65.0       1109\n",
              " 17.0       1067\n",
              " 70.0       1039\n",
              " 48.0       1022\n",
              " 2.0         976\n",
              " 22.0        921\n",
              " 53.0        836\n",
              " 58.0        750\n",
              " 27.0        744\n",
              " 75.0        688\n",
              " 32.0        657\n",
              " 80.0        600\n",
              " 63.0        574\n",
              " 21.0        493\n",
              " 85.0        486\n",
              " 37.0        477\n",
              " 16.0        459\n",
              " 68.0        451\n",
              " 73.0        446\n",
              " 42.0        419\n",
              " 26.0        410\n",
              " 11.0        395\n",
              " 31.0        363\n",
              " 90.0        345\n",
              " 83.0        328\n",
              " 78.0        315\n",
              " 47.0        307\n",
              " 36.0        280\n",
              " 46.0        280\n",
              " 88.0        280\n",
              " 6.0         262\n",
              " 41.0        252\n",
              " 52.0        220\n",
              " 93.0        219\n",
              " 95.0        216\n",
              " 51.0        200\n",
              " 56.0        196\n",
              " 71.0        175\n",
              " 66.0        168\n",
              " 62.0        165\n",
              " 100.0       156\n",
              " 57.0        141\n",
              " 24.0        140\n",
              " 19.0        139\n",
              " 61.0        135\n",
              " 29.0        132\n",
              " 96.0        110\n",
              " 110.0       106\n",
              " 98.0        106\n",
              " 67.0        104\n",
              " 87.0        104\n",
              " 86.0        102\n",
              " 101.0        92\n",
              " 113.0        90\n",
              " 76.0         88\n",
              " 9.0          88\n",
              " 14.0         87\n",
              " 81.0         82\n",
              " 72.0         70\n",
              " 59.0         70\n",
              " 79.0         67\n",
              " 82.0         62\n",
              " 77.0         62\n",
              " 125.0        61\n",
              " 54.0         57\n",
              " 34.0         57\n",
              " 49.0         55\n",
              " 4.0          55\n",
              " 44.0         54\n",
              " 118.0        53\n",
              " 64.0         52\n",
              " 108.0        45\n",
              " 121.0        45\n",
              " 39.0         44\n",
              " 105.0        41\n",
              " 91.0         39\n",
              " 136.0        36\n",
              " 115.0        35\n",
              " 103.0        35\n",
              " 153.0        34\n",
              " 106.0        33\n",
              " 140.0        31\n",
              " 89.0         31\n",
              " 132.0        30\n",
              " 126.0        29\n",
              " 141.0        28\n",
              " 92.0         27\n",
              " 123.0        24\n",
              " 84.0         24\n",
              " 104.0        23\n",
              " 130.0        23\n",
              " 109.0        23\n",
              " 99.0         22\n",
              " 107.0        22\n",
              " 139.0        21\n",
              " 135.0        20\n",
              " 149.0        20\n",
              " 102.0        20\n",
              " 128.0        20\n",
              " 133.0        19\n",
              " 114.0        18\n",
              " 69.0         18\n",
              " 146.0        17\n",
              " 152.0        16\n",
              " 119.0        15\n",
              " 116.0        15\n",
              " 178.0        14\n",
              " 145.0        14\n",
              " 131.0        13\n",
              " 143.0        12\n",
              " 129.0        12\n",
              " 120.0        10\n",
              " 112.0         9\n",
              " 111.0         9\n",
              " 74.0          8\n",
              "-2.0           2\n",
              "-1.0           2\n",
              "Name: Inspection Score, dtype: int64"
            ]
          },
          "metadata": {},
          "execution_count": 60
        }
      ]
    },
    {
      "cell_type": "code",
      "source": [
        "pd.set_option('display.max_rows', None)\n",
        "df['Inspection Result'].value_counts()"
      ],
      "metadata": {
        "colab": {
          "base_uri": "https://localhost:8080/"
        },
        "id": "jcDSn-2HI2-F",
        "outputId": "e4cfaf1b-a259-42d4-b3a4-11955de53d9b"
      },
      "execution_count": 61,
      "outputs": [
        {
          "output_type": "execute_result",
          "data": {
            "text/plain": [
              "Unsatisfactory              113926\n",
              "Satisfactory                102374\n",
              "Complete                     37224\n",
              "Incomplete                     697\n",
              "Not Accessible                 212\n",
              "Not Applicable                 167\n",
              "Baseline Data                   97\n",
              "Not Ready For Inspection        91\n",
              "Not Confirmed                   13\n",
              "No Longer At Location            3\n",
              "Confirmed                        2\n",
              "Out of Business                  2\n",
              "In Compliance                    2\n",
              "Needs Assessment                 1\n",
              "Not In Compliance                1\n",
              "Increased Knowledge              1\n",
              "Not Tested                       1\n",
              "Not Permitted                    1\n",
              "Name: Inspection Result, dtype: int64"
            ]
          },
          "metadata": {},
          "execution_count": 61
        }
      ]
    },
    {
      "cell_type": "code",
      "source": [
        "pd.set_option('display.max_rows', None)\n",
        "df['Inspection Closed Business'].value_counts()"
      ],
      "metadata": {
        "colab": {
          "base_uri": "https://localhost:8080/"
        },
        "id": "bPc67CQEI3iI",
        "outputId": "121f07c3-0f7d-4a9b-abf9-53ac80df330e"
      },
      "execution_count": 62,
      "outputs": [
        {
          "output_type": "execute_result",
          "data": {
            "text/plain": [
              "False    254007\n",
              "True        808\n",
              "Name: Inspection Closed Business, dtype: int64"
            ]
          },
          "metadata": {},
          "execution_count": 62
        }
      ]
    },
    {
      "cell_type": "code",
      "source": [
        "pd.set_option('display.max_rows', None)\n",
        "df['Violation Type'].value_counts()"
      ],
      "metadata": {
        "colab": {
          "base_uri": "https://localhost:8080/"
        },
        "id": "E1LnMXvQJCoE",
        "outputId": "cc554fe1-eab1-4b57-a391-030438714097"
      },
      "execution_count": 63,
      "outputs": [
        {
          "output_type": "execute_result",
          "data": {
            "text/plain": [
              "RED     75032\n",
              "BLUE    67288\n",
              "Name: Violation Type, dtype: int64"
            ]
          },
          "metadata": {},
          "execution_count": 63
        }
      ]
    },
    {
      "cell_type": "markdown",
      "source": [
        "* No typos or spelling issues\n",
        "* will visualize Inspection Score for outliers and other info\n",
        "\n",
        "* in future may look at combining description- by Seating or maybe by Risk Category\n",
        "* and will look at keeping only the top 4 unique- 'Inspection Result' dropping-\n",
        " * Not Accessible\n",
        " * Not Applicable\n",
        " * Baseline Data\n",
        " * Not Ready For Inspection\n",
        " * Not Confirmed\n",
        " * No Longer At Location\n",
        " * Confirmed  \n",
        " * ect...\n"
      ],
      "metadata": {
        "id": "hoSauKdFKA2X"
      }
    },
    {
      "cell_type": "markdown",
      "source": [
        "### Univariate Visuals for the target and all features.\n"
      ],
      "metadata": {
        "id": "pa4DCl9A6Ypt"
      }
    },
    {
      "cell_type": "code",
      "source": [
        "ax = sns.boxplot(data = df, x = 'Inspection Score');"
      ],
      "metadata": {
        "colab": {
          "base_uri": "https://localhost:8080/",
          "height": 449
        },
        "id": "8dkcg8NIMR2f",
        "outputId": "538c9f40-78ba-4a24-9f83-f6fbb04bc558"
      },
      "execution_count": 66,
      "outputs": [
        {
          "output_type": "display_data",
          "data": {
            "text/plain": [
              "<Figure size 640x480 with 1 Axes>"
            ],
            "image/png": "[encoded data removed]"
          },
          "metadata": {}
        }
      ]
    },
    {
      "cell_type": "markdown",
      "source": [
        "### Identified outliers"
      ],
      "metadata": {
        "id": "7Tf5NGRA6Ypu"
      }
    },
    {
      "cell_type": "code",
      "source": [
        "df.describe()"
      ],
      "metadata": {
        "colab": {
          "base_uri": "https://localhost:8080/",
          "height": 300
        },
        "id": "Tk_dILQzNj3v",
        "outputId": "75efa4f8-f8c7-4984-83e0-0048fc90d854"
      },
      "execution_count": 69,
      "outputs": [
        {
          "output_type": "execute_result",
          "data": {
            "text/plain": [
              "       Inspection Score  Violation Points          Grade\n",
              "count     254775.000000     254815.000000  193908.000000\n",
              "mean          14.129899          4.405867       1.399968\n",
              "std           20.311607          6.118279       0.599734\n",
              "min           -2.000000          0.000000       1.000000\n",
              "25%            0.000000          0.000000       1.000000\n",
              "50%            5.000000          3.000000       1.000000\n",
              "75%           20.000000          5.000000       2.000000\n",
              "max          178.000000         30.000000       4.000000"
            ],
            "text/html": [
              "\n",
              "  <div id=\"df-959a4b34-e4ae-4dc8-844e-b8aedde8e58b\">\n",
              "    <div class=\"colab-df-container\">\n",
              "      <div>\n",
              "<style scoped>\n",
              "    .dataframe tbody tr th:only-of-type {\n",
              "        vertical-align: middle;\n",
              "    }\n",
              "\n",
              "    .dataframe tbody tr th {\n",
              "        vertical-align: top;\n",
              "    }\n",
              "\n",
              "    .dataframe thead th {\n",
              "        text-align: right;\n",
              "    }\n",
              "</style>\n",
              "<table border=\"1\" class=\"dataframe\">\n",
              "  <thead>\n",
              "    <tr style=\"text-align: right;\">\n",
              "      <th></th>\n",
              "      <th>Inspection Score</th>\n",
              "      <th>Violation Points</th>\n",
              "      <th>Grade</th>\n",
              "    </tr>\n",
              "  </thead>\n",
              "  <tbody>\n",
              "    <tr>\n",
              "      <th>count</th>\n",
              "      <td>254775.000000</td>\n",
              "      <td>254815.000000</td>\n",
              "      <td>193908.000000</td>\n",
              "    </tr>\n",
              "    <tr>\n",
              "      <th>mean</th>\n",
              "      <td>14.129899</td>\n",
              "      <td>4.405867</td>\n",
              "      <td>1.399968</td>\n",
              "    </tr>\n",
              "    <tr>\n",
              "      <th>std</th>\n",
              "      <td>20.311607</td>\n",
              "      <td>6.118279</td>\n",
              "      <td>0.599734</td>\n",
              "    </tr>\n",
              "    <tr>\n",
              "      <th>min</th>\n",
              "      <td>-2.000000</td>\n",
              "      <td>0.000000</td>\n",
              "      <td>1.000000</td>\n",
              "    </tr>\n",
              "    <tr>\n",
              "      <th>25%</th>\n",
              "      <td>0.000000</td>\n",
              "      <td>0.000000</td>\n",
              "      <td>1.000000</td>\n",
              "    </tr>\n",
              "    <tr>\n",
              "      <th>50%</th>\n",
              "      <td>5.000000</td>\n",
              "      <td>3.000000</td>\n",
              "      <td>1.000000</td>\n",
              "    </tr>\n",
              "    <tr>\n",
              "      <th>75%</th>\n",
              "      <td>20.000000</td>\n",
              "      <td>5.000000</td>\n",
              "      <td>2.000000</td>\n",
              "    </tr>\n",
              "    <tr>\n",
              "      <th>max</th>\n",
              "      <td>178.000000</td>\n",
              "      <td>30.000000</td>\n",
              "      <td>4.000000</td>\n",
              "    </tr>\n",
              "  </tbody>\n",
              "</table>\n",
              "</div>\n",
              "      <button class=\"colab-df-convert\" onclick=\"convertToInteractive('df-959a4b34-e4ae-4dc8-844e-b8aedde8e58b')\"\n",
              "              title=\"Convert this dataframe to an interactive table.\"\n",
              "              style=\"display:none;\">\n",
              "        \n",
              "  <svg xmlns=\"http://www.w3.org/2000/svg\" height=\"24px\"viewBox=\"0 0 24 24\"\n",
              "       width=\"24px\">\n",
              "    <path d=\"M0 0h24v24H0V0z\" fill=\"none\"/>\n",
              "    <path d=\"M18.56 5.44l.94 2.06.94-2.06 2.06-.94-2.06-.94-.94-2.06-.94 2.06-2.06.94zm-11 1L8.5 8.5l.94-2.06 2.06-.94-2.06-.94L8.5 2.5l-.94 2.06-2.06.94zm10 10l.94 2.06.94-2.06 2.06-.94-2.06-.94-.94-2.06-.94 2.06-2.06.94z\"/><path d=\"M17.41 7.96l-1.37-1.37c-.4-.4-.92-.59-1.43-.59-.52 0-1.04.2-1.43.59L10.3 9.45l-7.72 7.72c-.78.78-.78 2.05 0 2.83L4 21.41c.39.39.9.59 1.41.59.51 0 1.02-.2 1.41-.59l7.78-7.78 2.81-2.81c.8-.78.8-2.07 0-2.86zM5.41 20L4 18.59l7.72-7.72 1.47 1.35L5.41 20z\"/>\n",
              "  </svg>\n",
              "      </button>\n",
              "      \n",
              "  <style>\n",
              "    .colab-df-container {\n",
              "      display:flex;\n",
              "      flex-wrap:wrap;\n",
              "      gap: 12px;\n",
              "    }\n",
              "\n",
              "    .colab-df-convert {\n",
              "      background-color: #E8F0FE;\n",
              "      border: none;\n",
              "      border-radius: 50%;\n",
              "      cursor: pointer;\n",
              "      display: none;\n",
              "      fill: #1967D2;\n",
              "      height: 32px;\n",
              "      padding: 0 0 0 0;\n",
              "      width: 32px;\n",
              "    }\n",
              "\n",
              "    .colab-df-convert:hover {\n",
              "      background-color: #E2EBFA;\n",
              "      box-shadow: 0px 1px 2px rgba(60, 64, 67, 0.3), 0px 1px 3px 1px rgba(60, 64, 67, 0.15);\n",
              "      fill: #174EA6;\n",
              "    }\n",
              "\n",
              "    [theme=dark] .colab-df-convert {\n",
              "      background-color: #3B4455;\n",
              "      fill: #D2E3FC;\n",
              "    }\n",
              "\n",
              "    [theme=dark] .colab-df-convert:hover {\n",
              "      background-color: #434B5C;\n",
              "      box-shadow: 0px 1px 3px 1px rgba(0, 0, 0, 0.15);\n",
              "      filter: drop-shadow(0px 1px 2px rgba(0, 0, 0, 0.3));\n",
              "      fill: #FFFFFF;\n",
              "    }\n",
              "  </style>\n",
              "\n",
              "      <script>\n",
              "        const buttonEl =\n",
              "          document.querySelector('#df-959a4b34-e4ae-4dc8-844e-b8aedde8e58b button.colab-df-convert');\n",
              "        buttonEl.style.display =\n",
              "          google.colab.kernel.accessAllowed ? 'block' : 'none';\n",
              "\n",
              "        async function convertToInteractive(key) {\n",
              "          const element = document.querySelector('#df-959a4b34-e4ae-4dc8-844e-b8aedde8e58b');\n",
              "          const dataTable =\n",
              "            await google.colab.kernel.invokeFunction('convertToInteractive',\n",
              "                                                     [key], {});\n",
              "          if (!dataTable) return;\n",
              "\n",
              "          const docLinkHtml = 'Like what you see? Visit the ' +\n",
              "            '<a target=\"_blank\" href=https://colab.research.google.com/notebooks/data_table.ipynb>data table notebook</a>'\n",
              "            + ' to learn more about interactive tables.';\n",
              "          element.innerHTML = '';\n",
              "          dataTable['output_type'] = 'display_data';\n",
              "          await google.colab.output.renderOutput(dataTable, element);\n",
              "          const docLink = document.createElement('div');\n",
              "          docLink.innerHTML = docLinkHtml;\n",
              "          element.appendChild(docLink);\n",
              "        }\n",
              "      </script>\n",
              "    </div>\n",
              "  </div>\n",
              "  "
            ]
          },
          "metadata": {},
          "execution_count": 69
        }
      ]
    },
    {
      "cell_type": "markdown",
      "source": [
        "* The 178 maybe an outlier, but need more info from data dict."
      ],
      "metadata": {
        "id": "T3N7Wy-lNgo2"
      }
    },
    {
      "cell_type": "code",
      "source": [
        "ax = sns.countplot(data = df, x = 'Inspection Type')\n",
        "ax.tick_params(axis='x', rotation=45);"
      ],
      "metadata": {
        "colab": {
          "base_uri": "https://localhost:8080/",
          "height": 600
        },
        "id": "xUVUMcFsLZPG",
        "outputId": "cc9fdcca-4714-426c-c871-29f15ef23d21"
      },
      "execution_count": 68,
      "outputs": [
        {
          "output_type": "display_data",
          "data": {
            "text/plain": [
              "<Figure size 640x480 with 1 Axes>"
            ],
            "image/png": "[encoded data removed]"
          },
          "metadata": {}
        }
      ]
    },
    {
      "cell_type": "code",
      "source": [
        "\n",
        "ax = sns.countplot(data = df, x = 'Inspection Result')\n",
        "ax.tick_params(axis='x', rotation=45);\n"
      ],
      "metadata": {
        "colab": {
          "base_uri": "https://localhost:8080/",
          "height": 568
        },
        "id": "xV-NXixlP2kN",
        "outputId": "95c473ec-d984-4641-9c4c-d09845e9ed88"
      },
      "execution_count": 75,
      "outputs": [
        {
          "output_type": "display_data",
          "data": {
            "text/plain": [
              "<Figure size 640x480 with 1 Axes>"
            ],
            "image/png": "[encoded data removed]"
          },
          "metadata": {}
        }
      ]
    },
    {
      "cell_type": "code",
      "source": [
        "ax = sns.countplot(data = df, x = 'Violation Type')\n",
        "ax.tick_params(axis='x', rotation=45);"
      ],
      "metadata": {
        "colab": {
          "base_uri": "https://localhost:8080/",
          "height": 470
        },
        "id": "nVSuXWzwOCFI",
        "outputId": "337189f3-fd31-4ee7-ea23-4ae0e89a5a5a"
      },
      "execution_count": 70,
      "outputs": [
        {
          "output_type": "display_data",
          "data": {
            "text/plain": [
              "<Figure size 640x480 with 1 Axes>"
            ],
            "image/png": "[encoded data removed]"
          },
          "metadata": {}
        }
      ]
    },
    {
      "cell_type": "code",
      "source": [
        "counts = df[x].value_counts().sort_values(ascending=False).to_frame()\n",
        "sns.barplot(data=counts,x=counts.index, y = counts[x],ax=ax)\n",
        "plt.xticks(rotation= 90)\n",
        "ax.set_title(f'Categorical Frequencies of {y}', fontsize = 20, fontweight = 'bold');\n",
        "ax.set_xlabel(f'Categories for {y}', fontsize = 15, fontweight = 'bold')\n",
        "ax.set_ylabel('Counts', fontsize = 15, fontweight = 'bold')\n"
      ],
      "metadata": {
        "id": "CrSD0KFxOB03"
      },
      "execution_count": null,
      "outputs": []
    },
    {
      "cell_type": "markdown",
      "source": [
        "#### TO DO- future\n",
        "\n",
        "* combining description- by Seating or maybe by Risk Category\n",
        "* look at keeping only the top 4 unique- 'Inspection Result' dropping-\n",
        " * Not Accessible\n",
        " * Not Applicable\n",
        " * Baseline Data\n",
        " * ect...\n",
        "* Look for corr between 'Name', 'Program Identifier'\n",
        " * maybe able to drop 1 of them"
      ],
      "metadata": {
        "id": "a59QXA6kOBLb"
      }
    },
    {
      "cell_type": "code",
      "source": [],
      "metadata": {
        "id": "RZKopQR9LZi5"
      },
      "execution_count": null,
      "outputs": []
    },
    {
      "cell_type": "code",
      "source": [
        "df.loc[:, ['Name', 'Program Identifier', 'Inspection Date']]"
      ],
      "metadata": {
        "id": "9DwllaCLAmIn"
      },
      "execution_count": 42,
      "outputs": []
    },
    {
      "cell_type": "code",
      "source": [
        "df.groupby('Name')['Inspection Date'].sum()"
      ],
      "metadata": {
        "id": "kcHDCjmcIme4"
      },
      "execution_count": null,
      "outputs": []
    },
    {
      "cell_type": "code",
      "source": [
        "df.dtypes"
      ],
      "metadata": {
        "id": "qxx0HZCkJJst"
      },
      "execution_count": null,
      "outputs": []
    },
    {
      "cell_type": "code",
      "source": [
        "data_types = df.dtypes\n",
        "str_cols = data_types[data_types=='object'].index\n",
        "str_cols"
      ],
      "metadata": {
        "id": "TulhQJccJU6y"
      },
      "execution_count": null,
      "outputs": []
    },
    {
      "cell_type": "code",
      "source": [
        "for col in str_cols:\n",
        "    print(f'- {col}:')\n",
        "    print(df[col].value_counts(dropna=False))\n",
        "    print(\"\\n\\n\")"
      ],
      "metadata": {
        "id": "xIdzSDBuJZlY"
      },
      "execution_count": null,
      "outputs": []
    },
    {
      "cell_type": "code",
      "source": [
        "duplicateRows = df[df.duplicated()]\n",
        "duplicateRows"
      ],
      "metadata": {
        "id": "v5rho_xkN-uV"
      },
      "execution_count": null,
      "outputs": []
    },
    {
      "cell_type": "code",
      "source": [
        "df.loc['T-MOBILE PARK']"
      ],
      "metadata": {
        "id": "PpJTbUrFLg0Q"
      },
      "execution_count": null,
      "outputs": []
    },
    {
      "cell_type": "code",
      "source": [
        "null_name = df['Name'].isna()"
      ],
      "metadata": {
        "id": "sJp1RDYUBE3n"
      },
      "execution_count": null,
      "outputs": []
    },
    {
      "cell_type": "code",
      "source": [
        "df[null_name]"
      ],
      "metadata": {
        "id": "rMF_WkRrBXCC"
      },
      "execution_count": null,
      "outputs": []
    }
  ]
}